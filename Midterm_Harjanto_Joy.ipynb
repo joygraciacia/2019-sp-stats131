{
 "cells": [
  {
   "cell_type": "code",
   "execution_count": 151,
   "metadata": {},
   "outputs": [],
   "source": [
    "import numpy as np\n",
    "import pandas as pd\n",
    "import matplotlib.pyplot as plt"
   ]
  },
  {
   "cell_type": "code",
   "execution_count": 2,
   "metadata": {},
   "outputs": [
    {
     "name": "stderr",
     "output_type": "stream",
     "text": [
      "/Users/joyharjanto/anaconda3/lib/python3.7/site-packages/IPython/core/interactiveshell.py:2785: DtypeWarning: Columns (3) have mixed types. Specify dtype option on import or set low_memory=False.\n",
      "  interactivity=interactivity, compiler=compiler, result=result)\n"
     ]
    }
   ],
   "source": [
    "# source: https://download.bls.gov/pub/time.series/ap/\n",
    "# save ap.data.3.food as a txt file\n",
    "apfood = pd.read_csv('ap.data.3.food.txt', sep = '\\t')"
   ]
  },
  {
   "cell_type": "code",
   "execution_count": 3,
   "metadata": {},
   "outputs": [],
   "source": [
    "apfood.series_id = apfood.series_id.str.strip() # remove whitespace from series_id"
   ]
  },
  {
   "cell_type": "code",
   "execution_count": 4,
   "metadata": {},
   "outputs": [],
   "source": [
    "# Read section 4 of https://download.bls.gov/pub/time.series/ap/ap.txt\n",
    "# for how to understand the series_id\n",
    "# We extract the itemcode from the series_id and create a new column called 'item_code'\n",
    "apfood['item_code'] = apfood.series_id.str[-6:]"
   ]
  },
  {
   "cell_type": "code",
   "execution_count": 5,
   "metadata": {},
   "outputs": [
    {
     "name": "stdout",
     "output_type": "stream",
     "text": [
      "       series_id  year period         value footnote_codes item_code\n",
      "0  APU0000701111  1980    M01         0.203                   701111\n",
      "1  APU0000701111  1980    M02         0.205                   701111\n",
      "2  APU0000701111  1980    M03         0.211                   701111\n",
      "3  APU0000701111  1980    M04         0.206                   701111\n",
      "4  APU0000701111  1980    M05         0.207                   701111\n"
     ]
    }
   ],
   "source": [
    "print(apfood.head())"
   ]
  },
  {
   "cell_type": "code",
   "execution_count": 6,
   "metadata": {},
   "outputs": [],
   "source": [
    "# source: https://download.bls.gov/pub/time.series/ap/\n",
    "# save ap.item as a txt file\n",
    "apitem = pd.read_csv('ap.item.txt', sep = '\\t')"
   ]
  },
  {
   "cell_type": "code",
   "execution_count": 7,
   "metadata": {},
   "outputs": [
    {
     "name": "stdout",
     "output_type": "stream",
     "text": [
      "  item_code                                          item_name\n",
      "0    701111      Flour, white, all purpose, per lb. (453.6 gm)\n",
      "1    701311  Rice, white, long grain, precooked (cost per p...\n",
      "2    701312  Rice, white, long grain, uncooked, per lb. (45...\n",
      "3    701321             Spaghetti (cost per pound/453.6 grams)\n",
      "4    701322         Spaghetti and macaroni, per lb. (453.6 gm)\n"
     ]
    }
   ],
   "source": [
    "print(apitem.head())"
   ]
  },
  {
   "cell_type": "code",
   "execution_count": 8,
   "metadata": {},
   "outputs": [],
   "source": [
    "food = pd.merge(apfood, apitem, on = 'item_code')"
   ]
  },
  {
   "cell_type": "code",
   "execution_count": 9,
   "metadata": {},
   "outputs": [
    {
     "name": "stdout",
     "output_type": "stream",
     "text": [
      "<class 'pandas.core.frame.DataFrame'>\n",
      "Int64Index: 132195 entries, 0 to 132194\n",
      "Data columns (total 7 columns):\n",
      "series_id         132195 non-null object\n",
      "year              132195 non-null int64\n",
      "period            132195 non-null object\n",
      "value             132195 non-null object\n",
      "footnote_codes    132195 non-null object\n",
      "item_code         132195 non-null object\n",
      "item_name         132195 non-null object\n",
      "dtypes: int64(1), object(6)\n",
      "memory usage: 8.1+ MB\n"
     ]
    }
   ],
   "source": [
    "food.info()"
   ]
  },
  {
   "cell_type": "code",
   "execution_count": 10,
   "metadata": {},
   "outputs": [
    {
     "name": "stdout",
     "output_type": "stream",
     "text": [
      "            series_id  year period         value footnote_codes item_code  \\\n",
      "0       APU0000701111  1980    M01         0.203                   701111   \n",
      "1       APU0000701111  1980    M02         0.205                   701111   \n",
      "2       APU0000701111  1980    M03         0.211                   701111   \n",
      "3       APU0000701111  1980    M04         0.206                   701111   \n",
      "4       APU0000701111  1980    M05         0.207                   701111   \n",
      "5       APU0000701111  1980    M06         0.210                   701111   \n",
      "6       APU0000701111  1980    M07         0.214                   701111   \n",
      "7       APU0000701111  1980    M08         0.215                   701111   \n",
      "8       APU0000701111  1980    M09         0.214                   701111   \n",
      "9       APU0000701111  1980    M10         0.212                   701111   \n",
      "10      APU0000701111  1980    M11         0.211                   701111   \n",
      "11      APU0000701111  1980    M12         0.211                   701111   \n",
      "12      APU0000701111  1981    M01         0.217                   701111   \n",
      "13      APU0000701111  1981    M02         0.222                   701111   \n",
      "14      APU0000701111  1981    M03         0.224                   701111   \n",
      "15      APU0000701111  1981    M04         0.225                   701111   \n",
      "16      APU0000701111  1981    M05         0.227                   701111   \n",
      "17      APU0000701111  1981    M06         0.228                   701111   \n",
      "18      APU0000701111  1981    M07         0.228                   701111   \n",
      "19      APU0000701111  1981    M08         0.230                   701111   \n",
      "20      APU0000701111  1981    M09         0.225                   701111   \n",
      "21      APU0000701111  1981    M10         0.226                   701111   \n",
      "22      APU0000701111  1981    M11         0.221                   701111   \n",
      "23      APU0000701111  1981    M12         0.218                   701111   \n",
      "24      APU0000701111  1982    M01         0.224                   701111   \n",
      "25      APU0000701111  1982    M02         0.226                   701111   \n",
      "26      APU0000701111  1982    M03         0.223                   701111   \n",
      "27      APU0000701111  1982    M04         0.220                   701111   \n",
      "28      APU0000701111  1982    M05         0.228                   701111   \n",
      "29      APU0000701111  1982    M06         0.227                   701111   \n",
      "...               ...   ...    ...           ...            ...       ...   \n",
      "132165  APU0400FN1102  2018    M08         0.372                   FN1102   \n",
      "132166  APU0400FN1102  2018    M09         0.367                   FN1102   \n",
      "132167  APU0400FN1102  2018    M10         0.403                   FN1102   \n",
      "132168  APU0400FN1102  2018    M11         0.395                   FN1102   \n",
      "132169  APU0400FN1102  2018    M12         0.383                   FN1102   \n",
      "132170  APU0400FN1102  2019    M01         0.385                   FN1102   \n",
      "132171  APU0400FN1102  2019    M02          0.37                   FN1102   \n",
      "132172  APU0400FN1102  2019    M03         0.387                   FN1102   \n",
      "132173  APU0400FN1102  2019    M04         0.376                   FN1102   \n",
      "132174  APU0000FS1101  2018    M04         4.153                   FS1101   \n",
      "132175  APU0000FS1101  2018    M05         4.112                   FS1101   \n",
      "132176  APU0000FS1101  2018    M06         4.064                   FS1101   \n",
      "132177  APU0000FS1101  2018    M07         4.110                   FS1101   \n",
      "132178  APU0000FS1101  2018    M08         4.085                   FS1101   \n",
      "132179  APU0000FS1101  2018    M09         4.119                   FS1101   \n",
      "132180  APU0000FS1101  2018    M10         4.111                   FS1101   \n",
      "132181  APU0000FS1101  2018    M11         3.953                   FS1101   \n",
      "132182  APU0000FS1101  2018    M12         3.931                   FS1101   \n",
      "132183  APU0000FS1101  2019    M01         4.055                   FS1101   \n",
      "132184  APU0000FS1101  2019    M02         4.154                   FS1101   \n",
      "132185  APU0000FS1101  2019    M03         4.261                   FS1101   \n",
      "132186  APU0000FS1101  2019    M04         4.019                   FS1101   \n",
      "132187  APU0200FS1101  2018    M04         4.421                   FS1101   \n",
      "132188  APU0200FS1101  2018    M05         4.416                   FS1101   \n",
      "132189  APU0200FS1101  2018    M06         4.430                   FS1101   \n",
      "132190  APU0200FS1101  2018    M07         4.486                   FS1101   \n",
      "132191  APU0200FS1101  2018    M08         4.296                   FS1101   \n",
      "132192  APU0200FS1101  2018    M09         4.303                   FS1101   \n",
      "132193  APU0400FS1101  2018    M04         4.398                   FS1101   \n",
      "132194  APU0400FS1101  2018    M05         4.091                   FS1101   \n",
      "\n",
      "                                                item_name  \n",
      "0           Flour, white, all purpose, per lb. (453.6 gm)  \n",
      "1           Flour, white, all purpose, per lb. (453.6 gm)  \n",
      "2           Flour, white, all purpose, per lb. (453.6 gm)  \n",
      "3           Flour, white, all purpose, per lb. (453.6 gm)  \n",
      "4           Flour, white, all purpose, per lb. (453.6 gm)  \n",
      "5           Flour, white, all purpose, per lb. (453.6 gm)  \n",
      "6           Flour, white, all purpose, per lb. (453.6 gm)  \n",
      "7           Flour, white, all purpose, per lb. (453.6 gm)  \n",
      "8           Flour, white, all purpose, per lb. (453.6 gm)  \n",
      "9           Flour, white, all purpose, per lb. (453.6 gm)  \n",
      "10          Flour, white, all purpose, per lb. (453.6 gm)  \n",
      "11          Flour, white, all purpose, per lb. (453.6 gm)  \n",
      "12          Flour, white, all purpose, per lb. (453.6 gm)  \n",
      "13          Flour, white, all purpose, per lb. (453.6 gm)  \n",
      "14          Flour, white, all purpose, per lb. (453.6 gm)  \n",
      "15          Flour, white, all purpose, per lb. (453.6 gm)  \n",
      "16          Flour, white, all purpose, per lb. (453.6 gm)  \n",
      "17          Flour, white, all purpose, per lb. (453.6 gm)  \n",
      "18          Flour, white, all purpose, per lb. (453.6 gm)  \n",
      "19          Flour, white, all purpose, per lb. (453.6 gm)  \n",
      "20          Flour, white, all purpose, per lb. (453.6 gm)  \n",
      "21          Flour, white, all purpose, per lb. (453.6 gm)  \n",
      "22          Flour, white, all purpose, per lb. (453.6 gm)  \n",
      "23          Flour, white, all purpose, per lb. (453.6 gm)  \n",
      "24          Flour, white, all purpose, per lb. (453.6 gm)  \n",
      "25          Flour, white, all purpose, per lb. (453.6 gm)  \n",
      "26          Flour, white, all purpose, per lb. (453.6 gm)  \n",
      "27          Flour, white, all purpose, per lb. (453.6 gm)  \n",
      "28          Flour, white, all purpose, per lb. (453.6 gm)  \n",
      "29          Flour, white, all purpose, per lb. (453.6 gm)  \n",
      "...                                                   ...  \n",
      "132165  All soft drinks, 12 pk, 12 oz., cans, per 12 o...  \n",
      "132166  All soft drinks, 12 pk, 12 oz., cans, per 12 o...  \n",
      "132167  All soft drinks, 12 pk, 12 oz., cans, per 12 o...  \n",
      "132168  All soft drinks, 12 pk, 12 oz., cans, per 12 o...  \n",
      "132169  All soft drinks, 12 pk, 12 oz., cans, per 12 o...  \n",
      "132170  All soft drinks, 12 pk, 12 oz., cans, per 12 o...  \n",
      "132171  All soft drinks, 12 pk, 12 oz., cans, per 12 o...  \n",
      "132172  All soft drinks, 12 pk, 12 oz., cans, per 12 o...  \n",
      "132173  All soft drinks, 12 pk, 12 oz., cans, per 12 o...  \n",
      "132174                  Butter, stick, per lb. (453.6 gm)  \n",
      "132175                  Butter, stick, per lb. (453.6 gm)  \n",
      "132176                  Butter, stick, per lb. (453.6 gm)  \n",
      "132177                  Butter, stick, per lb. (453.6 gm)  \n",
      "132178                  Butter, stick, per lb. (453.6 gm)  \n",
      "132179                  Butter, stick, per lb. (453.6 gm)  \n",
      "132180                  Butter, stick, per lb. (453.6 gm)  \n",
      "132181                  Butter, stick, per lb. (453.6 gm)  \n",
      "132182                  Butter, stick, per lb. (453.6 gm)  \n",
      "132183                  Butter, stick, per lb. (453.6 gm)  \n",
      "132184                  Butter, stick, per lb. (453.6 gm)  \n",
      "132185                  Butter, stick, per lb. (453.6 gm)  \n",
      "132186                  Butter, stick, per lb. (453.6 gm)  \n",
      "132187                  Butter, stick, per lb. (453.6 gm)  \n",
      "132188                  Butter, stick, per lb. (453.6 gm)  \n",
      "132189                  Butter, stick, per lb. (453.6 gm)  \n",
      "132190                  Butter, stick, per lb. (453.6 gm)  \n",
      "132191                  Butter, stick, per lb. (453.6 gm)  \n",
      "132192                  Butter, stick, per lb. (453.6 gm)  \n",
      "132193                  Butter, stick, per lb. (453.6 gm)  \n",
      "132194                  Butter, stick, per lb. (453.6 gm)  \n",
      "\n",
      "[132195 rows x 7 columns]\n"
     ]
    }
   ],
   "source": [
    "print(food)"
   ]
  },
  {
   "cell_type": "markdown",
   "metadata": {},
   "source": [
    "# Start here with your answer to question 1:"
   ]
  },
  {
   "cell_type": "code",
   "execution_count": 12,
   "metadata": {},
   "outputs": [
    {
     "data": {
      "text/plain": [
       "['series_id',\n",
       " 'year',\n",
       " 'period',\n",
       " 'value',\n",
       " 'footnote_codes',\n",
       " 'item_code',\n",
       " 'item_name']"
      ]
     },
     "execution_count": 12,
     "metadata": {},
     "output_type": "execute_result"
    }
   ],
   "source": [
    "list(food)"
   ]
  },
  {
   "cell_type": "code",
   "execution_count": 14,
   "metadata": {},
   "outputs": [
    {
     "data": {
      "text/plain": [
       "0    APU0000701111\n",
       "1    APU0000701111\n",
       "2    APU0000701111\n",
       "3    APU0000701111\n",
       "4    APU0000701111\n",
       "Name: series_id, dtype: object"
      ]
     },
     "execution_count": 14,
     "metadata": {},
     "output_type": "execute_result"
    }
   ],
   "source": [
    "food['series_id'].head()\n"
   ]
  },
  {
   "cell_type": "code",
   "execution_count": 35,
   "metadata": {},
   "outputs": [
    {
     "data": {
      "text/plain": [
       "['series_id',\n",
       " 'year',\n",
       " 'period',\n",
       " 'value',\n",
       " 'footnote_codes',\n",
       " 'item_code',\n",
       " 'item_name',\n",
       " 'area',\n",
       " 'season']"
      ]
     },
     "execution_count": 35,
     "metadata": {},
     "output_type": "execute_result"
    }
   ],
   "source": [
    "food['area']=[food['series_id'][i][3:7] for i in range(0,len(food['series_id']))]\n",
    "\n",
    "#food['area'].head()\n",
    "list(food) # to check\n"
   ]
  },
  {
   "cell_type": "code",
   "execution_count": 36,
   "metadata": {},
   "outputs": [
    {
     "data": {
      "text/plain": [
       "array(['0000', '0100', '0200', '0300', '0400'], dtype=object)"
      ]
     },
     "execution_count": 36,
     "metadata": {},
     "output_type": "execute_result"
    }
   ],
   "source": [
    "food['area'].unique()"
   ]
  },
  {
   "cell_type": "code",
   "execution_count": 26,
   "metadata": {},
   "outputs": [
    {
     "data": {
      "text/plain": [
       "0    U\n",
       "1    U\n",
       "2    U\n",
       "3    U\n",
       "4    U\n",
       "Name: season, dtype: object"
      ]
     },
     "execution_count": 26,
     "metadata": {},
     "output_type": "execute_result"
    }
   ],
   "source": [
    "food['season']=[food['series_id'][i][2] for i in range(0,len(food['series_id']))]\n",
    "\n",
    "food['season'].head()\n",
    "#list(food)\n"
   ]
  },
  {
   "cell_type": "code",
   "execution_count": 27,
   "metadata": {},
   "outputs": [
    {
     "data": {
      "text/plain": [
       "array(['U'], dtype=object)"
      ]
     },
     "execution_count": 27,
     "metadata": {},
     "output_type": "execute_result"
    }
   ],
   "source": [
    "food['season'].unique()"
   ]
  },
  {
   "cell_type": "code",
   "execution_count": 132,
   "metadata": {},
   "outputs": [
    {
     "name": "stdout",
     "output_type": "stream",
     "text": [
      "(132195, 9)\n",
      "(6087, 9)\n",
      "(1258, 9)\n",
      "(653, 9)\n"
     ]
    }
   ],
   "source": [
    "\n",
    "new_food=food\n",
    "print(food.shape)\n",
    "result2 = (food['item_code']=='711111') | (food['item_code']=='711211') | (food['item_code']=='711311')\n",
    "\n",
    "new_food = new_food[result2]\n",
    "\n",
    "print(new_food.shape)\n",
    "result=food['area']=='0000'\n",
    "\n",
    "new_food=new_food.loc[result]\n",
    "print(new_food.shape)\n",
    "\n",
    "new_food=new_food.loc[new_food['year']>=2000]\n",
    "print(new_food.shape)\n",
    "\n",
    "#print(new_food)"
   ]
  },
  {
   "cell_type": "code",
   "execution_count": 313,
   "metadata": {},
   "outputs": [
    {
     "data": {
      "text/plain": [
       "68016    M01\n",
       "68017    M02\n",
       "68018    M03\n",
       "68019    M04\n",
       "68020    M05\n",
       "68021    M06\n",
       "68022    M07\n",
       "68023    M08\n",
       "68024    M09\n",
       "68025    M10\n",
       "68026    M11\n",
       "68027    M12\n",
       "68028    M01\n",
       "68029    M02\n",
       "68030    M03\n",
       "68031    M04\n",
       "68032    M05\n",
       "68033    M06\n",
       "68034    M07\n",
       "68035    M08\n",
       "68036    M09\n",
       "68037    M10\n",
       "68038    M11\n",
       "68039    M12\n",
       "68040    M01\n",
       "68041    M02\n",
       "68042    M03\n",
       "68043    M04\n",
       "68044    M05\n",
       "68045    M06\n",
       "        ... \n",
       "72499    M11\n",
       "72500    M12\n",
       "72501    M01\n",
       "72502    M02\n",
       "72503    M03\n",
       "72504    M04\n",
       "72505    M05\n",
       "72506    M06\n",
       "72507    M07\n",
       "72508    M08\n",
       "72509    M09\n",
       "72510    M10\n",
       "72511    M11\n",
       "72512    M12\n",
       "72513    M01\n",
       "72514    M02\n",
       "72515    M03\n",
       "72516    M04\n",
       "72517    M05\n",
       "72518    M06\n",
       "72519    M07\n",
       "72520    M08\n",
       "72521    M09\n",
       "72522    M10\n",
       "72523    M11\n",
       "72524    M12\n",
       "72525    M01\n",
       "72526    M02\n",
       "72527    M03\n",
       "72528    M04\n",
       "Name: period, Length: 653, dtype: object"
      ]
     },
     "execution_count": 313,
     "metadata": {},
     "output_type": "execute_result"
    }
   ],
   "source": [
    "#new_food.index\n",
    "list(new_food)\n",
    "#print(new_food['year'].head)\n",
    "#new_food.year.replace({'M01':'January'})\n",
    "new_food['period']=new_food['period'].replace({'M01:01-01', 'M02:02-01', 'M03:03-01', 'M04:04-01', 'M05:05-01', 'M06:06-01', 'M07:07-01', 'M08:08-01', 'M09:09-01','M10:10-01', 'M11:11-01', 'M12:12-01'})\n",
    "#Out[11]: \n",
    "new_food.period\n",
    "#new_food.index.unique()\n",
    "\n",
    "\n",
    "def convert(new_food['period']):\n",
    "    "
   ]
  },
  {
   "cell_type": "code",
   "execution_count": 304,
   "metadata": {},
   "outputs": [
    {
     "data": {
      "text/plain": [
       "<matplotlib.legend.Legend at 0x11fd8bef0>"
      ]
     },
     "execution_count": 304,
     "metadata": {},
     "output_type": "execute_result"
    },
    {
     "data": {
      "image/png": "[encoded data removed]",
      "text/plain": [
       "<Figure size 432x288 with 1 Axes>"
      ]
     },
     "metadata": {
      "needs_background": "light"
     },
     "output_type": "display_data"
    }
   ],
   "source": [
    "#graph=new_food[['year','value','item_name']]\n",
    "#graph['value']\n",
    "#apples['value']=pd.to_numeric(apples['value'],downcast='float')\n",
    "#bananas['value']=pd.to_numeric(bananas['value'],downcast='float')\n",
    "#oranges['value']=pd.to_numeric(oranges['value'],downcast='float')\n",
    "\n",
    "#graph['value'].mean()\n",
    "#list(new_food['item_name'].unique())\n",
    "#graph.plot(x='year',y='value',label='item_name')\n",
    "apples=new_food[new_food['item_name']=='Apples, Red Delicious, per lb. (453.6 gm)']\n",
    "bananas=new_food[new_food['item_name']=='Bananas, per lb. (453.6 gm)']\n",
    "oranges=new_food[new_food['item_name']=='Oranges, Navel, per lb. (453.6 gm)']\n",
    "\n",
    "#plt.plot(x=list(new_food['year']),y=list(new_food['value']))\n",
    "#print(apples)\n",
    "\n",
    "plt.plot(apples['year'],apples['value'],label=\"apple\")\n",
    "plt.plot(bananas['year'],bananas['value'],label=\"bananas\")\n",
    "plt.plot(oranges['year'],oranges['value'],label=\"oranges\")\n",
    "plt.title('Average Price')\n",
    "plt.ylabel('Cost Per pound')\n",
    "plt.legend()\n"
   ]
  },
  {
   "cell_type": "code",
   "execution_count": 208,
   "metadata": {},
   "outputs": [
    {
     "data": {
      "text/plain": [
       "['series_id',\n",
       " 'year',\n",
       " 'period',\n",
       " 'value',\n",
       " 'footnote_codes',\n",
       " 'item_code',\n",
       " 'item_name',\n",
       " 'area',\n",
       " 'season']"
      ]
     },
     "execution_count": 208,
     "metadata": {},
     "output_type": "execute_result"
    }
   ],
   "source": [
    "list(new_food)"
   ]
  },
  {
   "cell_type": "code",
   "execution_count": 238,
   "metadata": {},
   "outputs": [
    {
     "name": "stdout",
     "output_type": "stream",
     "text": [
      "item_name  Apples, Red Delicious, per lb. (453.6 gm)  \\\n",
      "year                                                   \n",
      "2000                                        0.918833   \n",
      "2001                                        0.868417   \n",
      "2002                                        0.947917   \n",
      "2003                                        0.979750   \n",
      "2004                                        1.042917   \n",
      "2005                                        0.949417   \n",
      "2006                                        1.066500   \n",
      "2007                                        1.115250   \n",
      "2008                                        1.319833   \n",
      "2009                                        1.181583   \n",
      "2010                                        1.220250   \n",
      "2011                                        1.350333   \n",
      "2012                                        1.377083   \n",
      "2013                                        1.385909   \n",
      "2014                                        1.353667   \n",
      "2015                                        1.358000   \n",
      "2016                                        1.442273   \n",
      "2017                                        1.294400   \n",
      "2018                                             NaN   \n",
      "2019                                             NaN   \n",
      "\n",
      "item_name  Bananas, per lb. (453.6 gm)  Oranges, Navel, per lb. (453.6 gm)  \n",
      "year                                                                        \n",
      "2000                          0.501000                            0.628000  \n",
      "2001                          0.506667                            0.721714  \n",
      "2002                          0.507500                            0.835875  \n",
      "2003                          0.508667                            0.838111  \n",
      "2004                          0.495250                            0.858556  \n",
      "2005                          0.492167                            0.995800  \n",
      "2006                          0.500333                            1.087182  \n",
      "2007                          0.510167                            1.284455  \n",
      "2008                          0.609333                            1.116333  \n",
      "2009                          0.611167                            1.050417  \n",
      "2010                          0.579667                            1.061750  \n",
      "2011                          0.610167                            1.095750  \n",
      "2012                          0.602083                            1.053167  \n",
      "2013                          0.599583                            1.150750  \n",
      "2014                          0.598083                            1.318917  \n",
      "2015                          0.582750                            1.304417  \n",
      "2016                          0.573000                            1.245917  \n",
      "2017                          0.562583                            1.340750  \n",
      "2018                          0.573833                            1.412833  \n",
      "2019                          0.573750                            1.317000  \n"
     ]
    },
    {
     "data": {
      "text/plain": [
       "<matplotlib.axes._subplots.AxesSubplot at 0x11cb29c88>"
      ]
     },
     "execution_count": 238,
     "metadata": {},
     "output_type": "execute_result"
    },
    {
     "data": {
      "image/png": "[encoded data removed]",
      "text/plain": [
       "<Figure size 432x288 with 1 Axes>"
      ]
     },
     "metadata": {
      "needs_background": "light"
     },
     "output_type": "display_data"
    }
   ],
   "source": [
    "#new_food['value']=pd.to_numeric(new_food['value'],downcast=\"float\")\n",
    "q4=new_food.groupby(['year','item_name'])['value'].mean().unstack()\n",
    "print(q4)"
   ]
  },
  {
   "cell_type": "code",
   "execution_count": 241,
   "metadata": {},
   "outputs": [
    {
     "data": {
      "text/plain": [
       "Text(0,0.5,'Cost Per Price')"
      ]
     },
     "execution_count": 241,
     "metadata": {},
     "output_type": "execute_result"
    },
    {
     "data": {
      "image/png": "[encoded data removed]",
      "text/plain": [
       "<Figure size 432x288 with 1 Axes>"
      ]
     },
     "metadata": {
      "needs_background": "light"
     },
     "output_type": "display_data"
    }
   ],
   "source": [
    "q4.plot()\n",
    "plt.title(\"Annual Average Price\")\n",
    "plt.xlabel('year')\n",
    "plt.ylabel('Cost Per Price')"
   ]
  },
  {
   "cell_type": "code",
   "execution_count": 252,
   "metadata": {
    "scrolled": true
   },
   "outputs": [
    {
     "data": {
      "text/html": [
       "<div>\n",
       "<style scoped>\n",
       "    .dataframe tbody tr th:only-of-type {\n",
       "        vertical-align: middle;\n",
       "    }\n",
       "\n",
       "    .dataframe tbody tr th {\n",
       "        vertical-align: top;\n",
       "    }\n",
       "\n",
       "    .dataframe thead th {\n",
       "        text-align: right;\n",
       "    }\n",
       "</style>\n",
       "<table border=\"1\" class=\"dataframe\">\n",
       "  <thead>\n",
       "    <tr style=\"text-align: right;\">\n",
       "      <th>item_name</th>\n",
       "      <th>Apples, Red Delicious, per lb. (453.6 gm)</th>\n",
       "      <th>Bananas, per lb. (453.6 gm)</th>\n",
       "      <th>Oranges, Navel, per lb. (453.6 gm)</th>\n",
       "    </tr>\n",
       "    <tr>\n",
       "      <th>period</th>\n",
       "      <th></th>\n",
       "      <th></th>\n",
       "      <th></th>\n",
       "    </tr>\n",
       "  </thead>\n",
       "  <tbody>\n",
       "    <tr>\n",
       "      <th>M01</th>\n",
       "      <td>1.128556</td>\n",
       "      <td>0.551900</td>\n",
       "      <td>0.963500</td>\n",
       "    </tr>\n",
       "    <tr>\n",
       "      <th>M02</th>\n",
       "      <td>1.143500</td>\n",
       "      <td>0.557250</td>\n",
       "      <td>0.969700</td>\n",
       "    </tr>\n",
       "    <tr>\n",
       "      <th>M03</th>\n",
       "      <td>1.138389</td>\n",
       "      <td>0.561850</td>\n",
       "      <td>0.961500</td>\n",
       "    </tr>\n",
       "    <tr>\n",
       "      <th>M04</th>\n",
       "      <td>1.138889</td>\n",
       "      <td>0.559850</td>\n",
       "      <td>0.967800</td>\n",
       "    </tr>\n",
       "    <tr>\n",
       "      <th>M05</th>\n",
       "      <td>1.160111</td>\n",
       "      <td>0.556789</td>\n",
       "      <td>1.007053</td>\n",
       "    </tr>\n",
       "    <tr>\n",
       "      <th>M06</th>\n",
       "      <td>1.187944</td>\n",
       "      <td>0.558158</td>\n",
       "      <td>1.111941</td>\n",
       "    </tr>\n",
       "    <tr>\n",
       "      <th>M07</th>\n",
       "      <td>1.220667</td>\n",
       "      <td>0.559158</td>\n",
       "      <td>1.285917</td>\n",
       "    </tr>\n",
       "    <tr>\n",
       "      <th>M08</th>\n",
       "      <td>1.254778</td>\n",
       "      <td>0.553210</td>\n",
       "      <td>1.390083</td>\n",
       "    </tr>\n",
       "    <tr>\n",
       "      <th>M09</th>\n",
       "      <td>1.247222</td>\n",
       "      <td>0.549316</td>\n",
       "      <td>1.396933</td>\n",
       "    </tr>\n",
       "    <tr>\n",
       "      <th>M10</th>\n",
       "      <td>1.174000</td>\n",
       "      <td>0.548368</td>\n",
       "      <td>1.382625</td>\n",
       "    </tr>\n",
       "    <tr>\n",
       "      <th>M11</th>\n",
       "      <td>1.143500</td>\n",
       "      <td>0.545421</td>\n",
       "      <td>1.144632</td>\n",
       "    </tr>\n",
       "    <tr>\n",
       "      <th>M12</th>\n",
       "      <td>1.131529</td>\n",
       "      <td>0.548842</td>\n",
       "      <td>0.996632</td>\n",
       "    </tr>\n",
       "  </tbody>\n",
       "</table>\n",
       "</div>"
      ],
      "text/plain": [
       "item_name  Apples, Red Delicious, per lb. (453.6 gm)  \\\n",
       "period                                                 \n",
       "M01                                         1.128556   \n",
       "M02                                         1.143500   \n",
       "M03                                         1.138389   \n",
       "M04                                         1.138889   \n",
       "M05                                         1.160111   \n",
       "M06                                         1.187944   \n",
       "M07                                         1.220667   \n",
       "M08                                         1.254778   \n",
       "M09                                         1.247222   \n",
       "M10                                         1.174000   \n",
       "M11                                         1.143500   \n",
       "M12                                         1.131529   \n",
       "\n",
       "item_name  Bananas, per lb. (453.6 gm)  Oranges, Navel, per lb. (453.6 gm)  \n",
       "period                                                                      \n",
       "M01                           0.551900                            0.963500  \n",
       "M02                           0.557250                            0.969700  \n",
       "M03                           0.561850                            0.961500  \n",
       "M04                           0.559850                            0.967800  \n",
       "M05                           0.556789                            1.007053  \n",
       "M06                           0.558158                            1.111941  \n",
       "M07                           0.559158                            1.285917  \n",
       "M08                           0.553210                            1.390083  \n",
       "M09                           0.549316                            1.396933  \n",
       "M10                           0.548368                            1.382625  \n",
       "M11                           0.545421                            1.144632  \n",
       "M12                           0.548842                            0.996632  "
      ]
     },
     "execution_count": 252,
     "metadata": {},
     "output_type": "execute_result"
    }
   ],
   "source": [
    "list(new_food)\n",
    "\n",
    "q5=new_food.groupby(['period','item_name'])['value'].mean().unstack()\n",
    "print(q5)\n"
   ]
  },
  {
   "cell_type": "code",
   "execution_count": 249,
   "metadata": {},
   "outputs": [
    {
     "data": {
      "image/png": "[encoded data removed]",
      "text/plain": [
       "<Figure size 432x288 with 1 Axes>"
      ]
     },
     "metadata": {
      "needs_background": "light"
     },
     "output_type": "display_data"
    }
   ],
   "source": [
    "q5.plot()\n",
    "plt.xlabel('Month')\n",
    "plt.ylabel('Cost Per Pound')\n",
    "plt.show()"
   ]
  },
  {
   "cell_type": "code",
   "execution_count": 251,
   "metadata": {},
   "outputs": [
    {
     "data": {
      "text/plain": [
       "['Apples, Red Delicious, per lb. (453.6 gm)',\n",
       " 'Bananas, per lb. (453.6 gm)',\n",
       " 'Oranges, Navel, per lb. (453.6 gm)']"
      ]
     },
     "execution_count": 251,
     "metadata": {},
     "output_type": "execute_result"
    }
   ],
   "source": [
    "list(q5)"
   ]
  },
  {
   "cell_type": "code",
   "execution_count": 255,
   "metadata": {},
   "outputs": [
    {
     "data": {
      "text/html": [
       "<div>\n",
       "<style scoped>\n",
       "    .dataframe tbody tr th:only-of-type {\n",
       "        vertical-align: middle;\n",
       "    }\n",
       "\n",
       "    .dataframe tbody tr th {\n",
       "        vertical-align: top;\n",
       "    }\n",
       "\n",
       "    .dataframe thead th {\n",
       "        text-align: right;\n",
       "    }\n",
       "</style>\n",
       "<table border=\"1\" class=\"dataframe\">\n",
       "  <thead>\n",
       "    <tr style=\"text-align: right;\">\n",
       "      <th>item_name</th>\n",
       "      <th>Apples, Red Delicious, per lb. (453.6 gm)</th>\n",
       "      <th>Bananas, per lb. (453.6 gm)</th>\n",
       "      <th>Oranges, Navel, per lb. (453.6 gm)</th>\n",
       "    </tr>\n",
       "    <tr>\n",
       "      <th>period</th>\n",
       "      <th></th>\n",
       "      <th></th>\n",
       "      <th></th>\n",
       "    </tr>\n",
       "  </thead>\n",
       "  <tbody>\n",
       "    <tr>\n",
       "      <th>M01</th>\n",
       "      <td>NaN</td>\n",
       "      <td>NaN</td>\n",
       "      <td>NaN</td>\n",
       "    </tr>\n",
       "    <tr>\n",
       "      <th>M02</th>\n",
       "      <td>0.014944</td>\n",
       "      <td>0.005350</td>\n",
       "      <td>0.006200</td>\n",
       "    </tr>\n",
       "    <tr>\n",
       "      <th>M03</th>\n",
       "      <td>-0.005111</td>\n",
       "      <td>0.004600</td>\n",
       "      <td>-0.008200</td>\n",
       "    </tr>\n",
       "    <tr>\n",
       "      <th>M04</th>\n",
       "      <td>0.000500</td>\n",
       "      <td>-0.002000</td>\n",
       "      <td>0.006300</td>\n",
       "    </tr>\n",
       "    <tr>\n",
       "      <th>M05</th>\n",
       "      <td>0.021222</td>\n",
       "      <td>-0.003061</td>\n",
       "      <td>0.039253</td>\n",
       "    </tr>\n",
       "    <tr>\n",
       "      <th>M06</th>\n",
       "      <td>0.027833</td>\n",
       "      <td>0.001368</td>\n",
       "      <td>0.104889</td>\n",
       "    </tr>\n",
       "    <tr>\n",
       "      <th>M07</th>\n",
       "      <td>0.032722</td>\n",
       "      <td>0.001000</td>\n",
       "      <td>0.173975</td>\n",
       "    </tr>\n",
       "    <tr>\n",
       "      <th>M08</th>\n",
       "      <td>0.034111</td>\n",
       "      <td>-0.005947</td>\n",
       "      <td>0.104167</td>\n",
       "    </tr>\n",
       "    <tr>\n",
       "      <th>M09</th>\n",
       "      <td>-0.007556</td>\n",
       "      <td>-0.003895</td>\n",
       "      <td>0.006850</td>\n",
       "    </tr>\n",
       "    <tr>\n",
       "      <th>M10</th>\n",
       "      <td>-0.073222</td>\n",
       "      <td>-0.000947</td>\n",
       "      <td>-0.014308</td>\n",
       "    </tr>\n",
       "    <tr>\n",
       "      <th>M11</th>\n",
       "      <td>-0.030500</td>\n",
       "      <td>-0.002947</td>\n",
       "      <td>-0.237993</td>\n",
       "    </tr>\n",
       "    <tr>\n",
       "      <th>M12</th>\n",
       "      <td>-0.011971</td>\n",
       "      <td>0.003421</td>\n",
       "      <td>-0.148000</td>\n",
       "    </tr>\n",
       "  </tbody>\n",
       "</table>\n",
       "</div>"
      ],
      "text/plain": [
       "item_name  Apples, Red Delicious, per lb. (453.6 gm)  \\\n",
       "period                                                 \n",
       "M01                                              NaN   \n",
       "M02                                         0.014944   \n",
       "M03                                        -0.005111   \n",
       "M04                                         0.000500   \n",
       "M05                                         0.021222   \n",
       "M06                                         0.027833   \n",
       "M07                                         0.032722   \n",
       "M08                                         0.034111   \n",
       "M09                                        -0.007556   \n",
       "M10                                        -0.073222   \n",
       "M11                                        -0.030500   \n",
       "M12                                        -0.011971   \n",
       "\n",
       "item_name  Bananas, per lb. (453.6 gm)  Oranges, Navel, per lb. (453.6 gm)  \n",
       "period                                                                      \n",
       "M01                                NaN                                 NaN  \n",
       "M02                           0.005350                            0.006200  \n",
       "M03                           0.004600                           -0.008200  \n",
       "M04                          -0.002000                            0.006300  \n",
       "M05                          -0.003061                            0.039253  \n",
       "M06                           0.001368                            0.104889  \n",
       "M07                           0.001000                            0.173975  \n",
       "M08                          -0.005947                            0.104167  \n",
       "M09                          -0.003895                            0.006850  \n",
       "M10                          -0.000947                           -0.014308  \n",
       "M11                          -0.002947                           -0.237993  \n",
       "M12                           0.003421                           -0.148000  "
      ]
     },
     "execution_count": 255,
     "metadata": {},
     "output_type": "execute_result"
    }
   ],
   "source": [
    "diff=q5.diff()\n",
    "diff"
   ]
  },
  {
   "cell_type": "code",
   "execution_count": 260,
   "metadata": {},
   "outputs": [
    {
     "data": {
      "text/plain": [
       "item_name\n",
       "Apples, Red Delicious, per lb. (453.6 gm)    0.000270\n",
       "Bananas, per lb. (453.6 gm)                 -0.000278\n",
       "Oranges, Navel, per lb. (453.6 gm)           0.003012\n",
       "dtype: float32"
      ]
     },
     "execution_count": 260,
     "metadata": {},
     "output_type": "execute_result"
    }
   ],
   "source": [
    "diff.mean()"
   ]
  },
  {
   "cell_type": "code",
   "execution_count": 261,
   "metadata": {},
   "outputs": [
    {
     "data": {
      "text/plain": [
       "item_name\n",
       "Apples, Red Delicious, per lb. (453.6 gm)    0.031938\n",
       "Bananas, per lb. (453.6 gm)                  0.003701\n",
       "Oranges, Navel, per lb. (453.6 gm)           0.115110\n",
       "dtype: float32"
      ]
     },
     "execution_count": 261,
     "metadata": {},
     "output_type": "execute_result"
    }
   ],
   "source": [
    "diff.std()"
   ]
  },
  {
   "cell_type": "code",
   "execution_count": 262,
   "metadata": {},
   "outputs": [
    {
     "data": {
      "text/plain": [
       "period\n",
       "M01         NaN\n",
       "M02    0.005311\n",
       "M03    0.006679\n",
       "M04    0.004258\n",
       "M05    0.021233\n",
       "M06    0.053781\n",
       "M07    0.092086\n",
       "M08    0.055734\n",
       "M09    0.007487\n",
       "M10    0.038456\n",
       "M11    0.128491\n",
       "M12    0.083336\n",
       "dtype: float32"
      ]
     },
     "execution_count": 262,
     "metadata": {},
     "output_type": "execute_result"
    }
   ],
   "source": [
    "diff.std(axis=1)"
   ]
  },
  {
   "cell_type": "code",
   "execution_count": null,
   "metadata": {},
   "outputs": [],
   "source": [
    "#Question 7: Orange has the greatest spke in prices. Bananas has the least variability.\n",
    "\n",
    "#It remains almost constant throughout the year"
   ]
  },
  {
   "cell_type": "code",
   "execution_count": 264,
   "metadata": {},
   "outputs": [
    {
     "data": {
      "text/plain": [
       "area\n",
       "0000    0.931689\n",
       "Name: value, dtype: float32"
      ]
     },
     "execution_count": 264,
     "metadata": {},
     "output_type": "execute_result"
    }
   ],
   "source": [
    "food.groupby(['area'])['value'].mean()"
   ]
  },
  {
   "cell_type": "code",
   "execution_count": 270,
   "metadata": {},
   "outputs": [
    {
     "data": {
      "text/plain": [
       "pandas.core.series.Series"
      ]
     },
     "execution_count": 270,
     "metadata": {},
     "output_type": "execute_result"
    }
   ],
   "source": [
    "#food.groupby(['area'])['value'].mean()\n",
    "type(food['value'])\n",
    "\n"
   ]
  },
  {
   "cell_type": "code",
   "execution_count": 314,
   "metadata": {},
   "outputs": [],
   "source": [
    "#food['value']=pd.to_numeric(food['value'],downcast='float')\n",
    "food.iloc[63404,]==\"-\"\n",
    "\n",
    "food=food.iloc[-63404,]\n",
    "\n"
   ]
  },
  {
   "cell_type": "code",
   "execution_count": 315,
   "metadata": {},
   "outputs": [
    {
     "ename": "TypeError",
     "evalue": "'str' object is not callable",
     "output_type": "error",
     "traceback": [
      "\u001b[0;31m---------------------------------------------------------------------------\u001b[0m",
      "\u001b[0;31mTypeError\u001b[0m                                 Traceback (most recent call last)",
      "\u001b[0;32m<ipython-input-315-9f8c9c66ad2b>\u001b[0m in \u001b[0;36m<module>\u001b[0;34m()\u001b[0m\n\u001b[0;32m----> 1\u001b[0;31m \u001b[0mfood\u001b[0m\u001b[0;34m.\u001b[0m\u001b[0mgroupby\u001b[0m\u001b[0;34m(\u001b[0m\u001b[0;34m[\u001b[0m\u001b[0;34m'area'\u001b[0m\u001b[0;34m]\u001b[0m\u001b[0;34m)\u001b[0m\u001b[0;34m[\u001b[0m\u001b[0;34m'value'\u001b[0m\u001b[0;34m]\u001b[0m\u001b[0;34m.\u001b[0m\u001b[0mmean\u001b[0m\u001b[0;34m(\u001b[0m\u001b[0;34m)\u001b[0m\u001b[0;34m\u001b[0m\u001b[0m\n\u001b[0m",
      "\u001b[0;32m~/anaconda3/lib/python3.7/site-packages/pandas/core/generic.py\u001b[0m in \u001b[0;36mgroupby\u001b[0;34m(self, by, axis, level, as_index, sort, group_keys, squeeze, observed, **kwargs)\u001b[0m\n\u001b[1;32m   6663\u001b[0m         return groupby(self, by=by, axis=axis, level=level, as_index=as_index,\n\u001b[1;32m   6664\u001b[0m                        \u001b[0msort\u001b[0m\u001b[0;34m=\u001b[0m\u001b[0msort\u001b[0m\u001b[0;34m,\u001b[0m \u001b[0mgroup_keys\u001b[0m\u001b[0;34m=\u001b[0m\u001b[0mgroup_keys\u001b[0m\u001b[0;34m,\u001b[0m \u001b[0msqueeze\u001b[0m\u001b[0;34m=\u001b[0m\u001b[0msqueeze\u001b[0m\u001b[0;34m,\u001b[0m\u001b[0;34m\u001b[0m\u001b[0m\n\u001b[0;32m-> 6665\u001b[0;31m                        observed=observed, **kwargs)\n\u001b[0m\u001b[1;32m   6666\u001b[0m \u001b[0;34m\u001b[0m\u001b[0m\n\u001b[1;32m   6667\u001b[0m     def asfreq(self, freq, method=None, how=None, normalize=False,\n",
      "\u001b[0;32m~/anaconda3/lib/python3.7/site-packages/pandas/core/groupby/groupby.py\u001b[0m in \u001b[0;36mgroupby\u001b[0;34m(obj, by, **kwds)\u001b[0m\n\u001b[1;32m   2150\u001b[0m         \u001b[0;32mraise\u001b[0m \u001b[0mTypeError\u001b[0m\u001b[0;34m(\u001b[0m\u001b[0;34m'invalid type: %s'\u001b[0m \u001b[0;34m%\u001b[0m \u001b[0mtype\u001b[0m\u001b[0;34m(\u001b[0m\u001b[0mobj\u001b[0m\u001b[0;34m)\u001b[0m\u001b[0;34m)\u001b[0m\u001b[0;34m\u001b[0m\u001b[0m\n\u001b[1;32m   2151\u001b[0m \u001b[0;34m\u001b[0m\u001b[0m\n\u001b[0;32m-> 2152\u001b[0;31m     \u001b[0;32mreturn\u001b[0m \u001b[0mklass\u001b[0m\u001b[0;34m(\u001b[0m\u001b[0mobj\u001b[0m\u001b[0;34m,\u001b[0m \u001b[0mby\u001b[0m\u001b[0;34m,\u001b[0m \u001b[0;34m**\u001b[0m\u001b[0mkwds\u001b[0m\u001b[0;34m)\u001b[0m\u001b[0;34m\u001b[0m\u001b[0m\n\u001b[0m\u001b[1;32m   2153\u001b[0m \u001b[0;34m\u001b[0m\u001b[0m\n\u001b[1;32m   2154\u001b[0m \u001b[0;34m\u001b[0m\u001b[0m\n",
      "\u001b[0;32m~/anaconda3/lib/python3.7/site-packages/pandas/core/groupby/groupby.py\u001b[0m in \u001b[0;36m__init__\u001b[0;34m(self, obj, keys, axis, level, grouper, exclusions, selection, as_index, sort, group_keys, squeeze, observed, **kwargs)\u001b[0m\n\u001b[1;32m    597\u001b[0m                                                     \u001b[0msort\u001b[0m\u001b[0;34m=\u001b[0m\u001b[0msort\u001b[0m\u001b[0;34m,\u001b[0m\u001b[0;34m\u001b[0m\u001b[0m\n\u001b[1;32m    598\u001b[0m                                                     \u001b[0mobserved\u001b[0m\u001b[0;34m=\u001b[0m\u001b[0mobserved\u001b[0m\u001b[0;34m,\u001b[0m\u001b[0;34m\u001b[0m\u001b[0m\n\u001b[0;32m--> 599\u001b[0;31m                                                     mutated=self.mutated)\n\u001b[0m\u001b[1;32m    600\u001b[0m \u001b[0;34m\u001b[0m\u001b[0m\n\u001b[1;32m    601\u001b[0m         \u001b[0mself\u001b[0m\u001b[0;34m.\u001b[0m\u001b[0mobj\u001b[0m \u001b[0;34m=\u001b[0m \u001b[0mobj\u001b[0m\u001b[0;34m\u001b[0m\u001b[0m\n",
      "\u001b[0;32m~/anaconda3/lib/python3.7/site-packages/pandas/core/groupby/groupby.py\u001b[0m in \u001b[0;36m_get_grouper\u001b[0;34m(obj, key, axis, level, sort, observed, mutated, validate)\u001b[0m\n\u001b[1;32m   3313\u001b[0m                         \u001b[0mobserved\u001b[0m\u001b[0;34m=\u001b[0m\u001b[0mobserved\u001b[0m\u001b[0;34m,\u001b[0m\u001b[0;34m\u001b[0m\u001b[0m\n\u001b[1;32m   3314\u001b[0m                         in_axis=in_axis) \\\n\u001b[0;32m-> 3315\u001b[0;31m             \u001b[0;32mif\u001b[0m \u001b[0;32mnot\u001b[0m \u001b[0misinstance\u001b[0m\u001b[0;34m(\u001b[0m\u001b[0mgpr\u001b[0m\u001b[0;34m,\u001b[0m \u001b[0mGrouping\u001b[0m\u001b[0;34m)\u001b[0m \u001b[0;32melse\u001b[0m \u001b[0mgpr\u001b[0m\u001b[0;34m\u001b[0m\u001b[0m\n\u001b[0m\u001b[1;32m   3316\u001b[0m \u001b[0;34m\u001b[0m\u001b[0m\n\u001b[1;32m   3317\u001b[0m         \u001b[0mgroupings\u001b[0m\u001b[0;34m.\u001b[0m\u001b[0mappend\u001b[0m\u001b[0;34m(\u001b[0m\u001b[0mping\u001b[0m\u001b[0;34m)\u001b[0m\u001b[0;34m\u001b[0m\u001b[0m\n",
      "\u001b[0;32m~/anaconda3/lib/python3.7/site-packages/pandas/core/groupby/groupby.py\u001b[0m in \u001b[0;36m__init__\u001b[0;34m(self, index, grouper, obj, name, level, sort, observed, in_axis)\u001b[0m\n\u001b[1;32m   3024\u001b[0m                     \u001b[0mt\u001b[0m \u001b[0;34m=\u001b[0m \u001b[0mself\u001b[0m\u001b[0;34m.\u001b[0m\u001b[0mname\u001b[0m \u001b[0;32mor\u001b[0m \u001b[0mstr\u001b[0m\u001b[0;34m(\u001b[0m\u001b[0mtype\u001b[0m\u001b[0;34m(\u001b[0m\u001b[0mself\u001b[0m\u001b[0;34m.\u001b[0m\u001b[0mgrouper\u001b[0m\u001b[0;34m)\u001b[0m\u001b[0;34m)\u001b[0m\u001b[0;34m\u001b[0m\u001b[0m\n\u001b[1;32m   3025\u001b[0m                     \u001b[0;32mraise\u001b[0m \u001b[0mValueError\u001b[0m\u001b[0;34m(\u001b[0m\u001b[0;34m\"Grouper for '%s' not 1-dimensional\"\u001b[0m \u001b[0;34m%\u001b[0m \u001b[0mt\u001b[0m\u001b[0;34m)\u001b[0m\u001b[0;34m\u001b[0m\u001b[0m\n\u001b[0;32m-> 3026\u001b[0;31m                 \u001b[0mself\u001b[0m\u001b[0;34m.\u001b[0m\u001b[0mgrouper\u001b[0m \u001b[0;34m=\u001b[0m \u001b[0mself\u001b[0m\u001b[0;34m.\u001b[0m\u001b[0mindex\u001b[0m\u001b[0;34m.\u001b[0m\u001b[0mmap\u001b[0m\u001b[0;34m(\u001b[0m\u001b[0mself\u001b[0m\u001b[0;34m.\u001b[0m\u001b[0mgrouper\u001b[0m\u001b[0;34m)\u001b[0m\u001b[0;34m\u001b[0m\u001b[0m\n\u001b[0m\u001b[1;32m   3027\u001b[0m                 if not (hasattr(self.grouper, \"__len__\") and\n\u001b[1;32m   3028\u001b[0m                         len(self.grouper) == len(self.index)):\n",
      "\u001b[0;32m~/anaconda3/lib/python3.7/site-packages/pandas/core/indexes/base.py\u001b[0m in \u001b[0;36mmap\u001b[0;34m(self, mapper, na_action)\u001b[0m\n\u001b[1;32m   3447\u001b[0m         \u001b[0;32mfrom\u001b[0m \u001b[0;34m.\u001b[0m\u001b[0mmulti\u001b[0m \u001b[0;32mimport\u001b[0m \u001b[0mMultiIndex\u001b[0m\u001b[0;34m\u001b[0m\u001b[0m\n\u001b[1;32m   3448\u001b[0m         new_values = super(Index, self)._map_values(\n\u001b[0;32m-> 3449\u001b[0;31m             mapper, na_action=na_action)\n\u001b[0m\u001b[1;32m   3450\u001b[0m \u001b[0;34m\u001b[0m\u001b[0m\n\u001b[1;32m   3451\u001b[0m         \u001b[0mattributes\u001b[0m \u001b[0;34m=\u001b[0m \u001b[0mself\u001b[0m\u001b[0;34m.\u001b[0m\u001b[0m_get_attributes_dict\u001b[0m\u001b[0;34m(\u001b[0m\u001b[0;34m)\u001b[0m\u001b[0;34m\u001b[0m\u001b[0m\n",
      "\u001b[0;32m~/anaconda3/lib/python3.7/site-packages/pandas/core/base.py\u001b[0m in \u001b[0;36m_map_values\u001b[0;34m(self, mapper, na_action)\u001b[0m\n\u001b[1;32m   1002\u001b[0m \u001b[0;34m\u001b[0m\u001b[0m\n\u001b[1;32m   1003\u001b[0m         \u001b[0;31m# mapper is a function\u001b[0m\u001b[0;34m\u001b[0m\u001b[0;34m\u001b[0m\u001b[0m\n\u001b[0;32m-> 1004\u001b[0;31m         \u001b[0mnew_values\u001b[0m \u001b[0;34m=\u001b[0m \u001b[0mmap_f\u001b[0m\u001b[0;34m(\u001b[0m\u001b[0mvalues\u001b[0m\u001b[0;34m,\u001b[0m \u001b[0mmapper\u001b[0m\u001b[0;34m)\u001b[0m\u001b[0;34m\u001b[0m\u001b[0m\n\u001b[0m\u001b[1;32m   1005\u001b[0m \u001b[0;34m\u001b[0m\u001b[0m\n\u001b[1;32m   1006\u001b[0m         \u001b[0;32mreturn\u001b[0m \u001b[0mnew_values\u001b[0m\u001b[0;34m\u001b[0m\u001b[0m\n",
      "\u001b[0;32mpandas/_libs/src/inference.pyx\u001b[0m in \u001b[0;36mpandas._libs.lib.map_infer\u001b[0;34m()\u001b[0m\n",
      "\u001b[0;31mTypeError\u001b[0m: 'str' object is not callable"
     ]
    }
   ],
   "source": [
    "food.groupby(['area'])['value'].mean()\n"
   ]
  },
  {
   "cell_type": "code",
   "execution_count": null,
   "metadata": {},
   "outputs": [],
   "source": []
  }
 ],
 "metadata": {
  "kernelspec": {
   "display_name": "Python 3",
   "language": "python",
   "name": "python3"
  },
  "language_info": {
   "codemirror_mode": {
    "name": "ipython",
    "version": 3
   },
   "file_extension": ".py",
   "mimetype": "text/x-python",
   "name": "python",
   "nbconvert_exporter": "python",
   "pygments_lexer": "ipython3",
   "version": "3.7.0"
  }
 },
 "nbformat": 4,
 "nbformat_minor": 2
}
