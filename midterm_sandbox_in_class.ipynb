{
 "cells": [
  {
   "cell_type": "code",
   "execution_count": 1,
   "metadata": {},
   "outputs": [],
   "source": [
    "# import libraries\n",
    "import pandas as pd\n",
    "import numpy as np\n",
    "import matplotlib.pyplot as plt"
   ]
  },
  {
   "cell_type": "code",
   "execution_count": 2,
   "metadata": {},
   "outputs": [],
   "source": [
    "bmx = pd.read_sas('BMX_I.XPT')"
   ]
  },
  {
   "cell_type": "code",
   "execution_count": 3,
   "metadata": {},
   "outputs": [
    {
     "data": {
      "text/html": [
       "<div>\n",
       "<style scoped>\n",
       "    .dataframe tbody tr th:only-of-type {\n",
       "        vertical-align: middle;\n",
       "    }\n",
       "\n",
       "    .dataframe tbody tr th {\n",
       "        vertical-align: top;\n",
       "    }\n",
       "\n",
       "    .dataframe thead th {\n",
       "        text-align: right;\n",
       "    }\n",
       "</style>\n",
       "<table border=\"1\" class=\"dataframe\">\n",
       "  <thead>\n",
       "    <tr style=\"text-align: right;\">\n",
       "      <th></th>\n",
       "      <th>SEQN</th>\n",
       "      <th>BMDSTATS</th>\n",
       "      <th>BMXWT</th>\n",
       "      <th>BMIWT</th>\n",
       "      <th>BMXRECUM</th>\n",
       "      <th>BMIRECUM</th>\n",
       "      <th>BMXHEAD</th>\n",
       "      <th>BMIHEAD</th>\n",
       "      <th>BMXHT</th>\n",
       "      <th>BMIHT</th>\n",
       "      <th>...</th>\n",
       "      <th>BMXARMC</th>\n",
       "      <th>BMIARMC</th>\n",
       "      <th>BMXWAIST</th>\n",
       "      <th>BMIWAIST</th>\n",
       "      <th>BMXSAD1</th>\n",
       "      <th>BMXSAD2</th>\n",
       "      <th>BMXSAD3</th>\n",
       "      <th>BMXSAD4</th>\n",
       "      <th>BMDAVSAD</th>\n",
       "      <th>BMDSADCM</th>\n",
       "    </tr>\n",
       "  </thead>\n",
       "  <tbody>\n",
       "    <tr>\n",
       "      <th>0</th>\n",
       "      <td>83732.0</td>\n",
       "      <td>1.0</td>\n",
       "      <td>94.8</td>\n",
       "      <td>NaN</td>\n",
       "      <td>NaN</td>\n",
       "      <td>NaN</td>\n",
       "      <td>NaN</td>\n",
       "      <td>NaN</td>\n",
       "      <td>184.5</td>\n",
       "      <td>NaN</td>\n",
       "      <td>...</td>\n",
       "      <td>35.9</td>\n",
       "      <td>NaN</td>\n",
       "      <td>101.1</td>\n",
       "      <td>NaN</td>\n",
       "      <td>22.9</td>\n",
       "      <td>22.7</td>\n",
       "      <td>NaN</td>\n",
       "      <td>NaN</td>\n",
       "      <td>22.8</td>\n",
       "      <td>NaN</td>\n",
       "    </tr>\n",
       "    <tr>\n",
       "      <th>1</th>\n",
       "      <td>83733.0</td>\n",
       "      <td>1.0</td>\n",
       "      <td>90.4</td>\n",
       "      <td>NaN</td>\n",
       "      <td>NaN</td>\n",
       "      <td>NaN</td>\n",
       "      <td>NaN</td>\n",
       "      <td>NaN</td>\n",
       "      <td>171.4</td>\n",
       "      <td>NaN</td>\n",
       "      <td>...</td>\n",
       "      <td>33.2</td>\n",
       "      <td>NaN</td>\n",
       "      <td>107.9</td>\n",
       "      <td>NaN</td>\n",
       "      <td>27.5</td>\n",
       "      <td>27.1</td>\n",
       "      <td>NaN</td>\n",
       "      <td>NaN</td>\n",
       "      <td>27.3</td>\n",
       "      <td>NaN</td>\n",
       "    </tr>\n",
       "    <tr>\n",
       "      <th>2</th>\n",
       "      <td>83734.0</td>\n",
       "      <td>1.0</td>\n",
       "      <td>83.4</td>\n",
       "      <td>NaN</td>\n",
       "      <td>NaN</td>\n",
       "      <td>NaN</td>\n",
       "      <td>NaN</td>\n",
       "      <td>NaN</td>\n",
       "      <td>170.1</td>\n",
       "      <td>NaN</td>\n",
       "      <td>...</td>\n",
       "      <td>31.0</td>\n",
       "      <td>NaN</td>\n",
       "      <td>116.5</td>\n",
       "      <td>NaN</td>\n",
       "      <td>26.7</td>\n",
       "      <td>26.5</td>\n",
       "      <td>NaN</td>\n",
       "      <td>NaN</td>\n",
       "      <td>26.6</td>\n",
       "      <td>NaN</td>\n",
       "    </tr>\n",
       "    <tr>\n",
       "      <th>3</th>\n",
       "      <td>83735.0</td>\n",
       "      <td>1.0</td>\n",
       "      <td>109.8</td>\n",
       "      <td>NaN</td>\n",
       "      <td>NaN</td>\n",
       "      <td>NaN</td>\n",
       "      <td>NaN</td>\n",
       "      <td>NaN</td>\n",
       "      <td>160.9</td>\n",
       "      <td>NaN</td>\n",
       "      <td>...</td>\n",
       "      <td>38.3</td>\n",
       "      <td>NaN</td>\n",
       "      <td>110.1</td>\n",
       "      <td>NaN</td>\n",
       "      <td>25.2</td>\n",
       "      <td>25.0</td>\n",
       "      <td>NaN</td>\n",
       "      <td>NaN</td>\n",
       "      <td>25.1</td>\n",
       "      <td>NaN</td>\n",
       "    </tr>\n",
       "    <tr>\n",
       "      <th>4</th>\n",
       "      <td>83736.0</td>\n",
       "      <td>3.0</td>\n",
       "      <td>55.2</td>\n",
       "      <td>NaN</td>\n",
       "      <td>NaN</td>\n",
       "      <td>NaN</td>\n",
       "      <td>NaN</td>\n",
       "      <td>NaN</td>\n",
       "      <td>164.9</td>\n",
       "      <td>NaN</td>\n",
       "      <td>...</td>\n",
       "      <td>27.2</td>\n",
       "      <td>NaN</td>\n",
       "      <td>80.4</td>\n",
       "      <td>NaN</td>\n",
       "      <td>NaN</td>\n",
       "      <td>NaN</td>\n",
       "      <td>NaN</td>\n",
       "      <td>NaN</td>\n",
       "      <td>NaN</td>\n",
       "      <td>NaN</td>\n",
       "    </tr>\n",
       "  </tbody>\n",
       "</table>\n",
       "<p>5 rows × 26 columns</p>\n",
       "</div>"
      ],
      "text/plain": [
       "      SEQN  BMDSTATS  BMXWT  BMIWT  BMXRECUM  BMIRECUM  BMXHEAD  BMIHEAD  \\\n",
       "0  83732.0       1.0   94.8    NaN       NaN       NaN      NaN      NaN   \n",
       "1  83733.0       1.0   90.4    NaN       NaN       NaN      NaN      NaN   \n",
       "2  83734.0       1.0   83.4    NaN       NaN       NaN      NaN      NaN   \n",
       "3  83735.0       1.0  109.8    NaN       NaN       NaN      NaN      NaN   \n",
       "4  83736.0       3.0   55.2    NaN       NaN       NaN      NaN      NaN   \n",
       "\n",
       "   BMXHT  BMIHT    ...     BMXARMC  BMIARMC  BMXWAIST  BMIWAIST  BMXSAD1  \\\n",
       "0  184.5    NaN    ...        35.9      NaN     101.1       NaN     22.9   \n",
       "1  171.4    NaN    ...        33.2      NaN     107.9       NaN     27.5   \n",
       "2  170.1    NaN    ...        31.0      NaN     116.5       NaN     26.7   \n",
       "3  160.9    NaN    ...        38.3      NaN     110.1       NaN     25.2   \n",
       "4  164.9    NaN    ...        27.2      NaN      80.4       NaN      NaN   \n",
       "\n",
       "   BMXSAD2  BMXSAD3  BMXSAD4  BMDAVSAD  BMDSADCM  \n",
       "0     22.7      NaN      NaN      22.8       NaN  \n",
       "1     27.1      NaN      NaN      27.3       NaN  \n",
       "2     26.5      NaN      NaN      26.6       NaN  \n",
       "3     25.0      NaN      NaN      25.1       NaN  \n",
       "4      NaN      NaN      NaN       NaN       NaN  \n",
       "\n",
       "[5 rows x 26 columns]"
      ]
     },
     "execution_count": 3,
     "metadata": {},
     "output_type": "execute_result"
    }
   ],
   "source": [
    "bmx.head()"
   ]
  },
  {
   "cell_type": "code",
   "execution_count": 4,
   "metadata": {},
   "outputs": [
    {
     "name": "stdout",
     "output_type": "stream",
     "text": [
      "<class 'pandas.core.frame.DataFrame'>\n",
      "RangeIndex: 9544 entries, 0 to 9543\n",
      "Data columns (total 26 columns):\n",
      "SEQN        9544 non-null float64\n",
      "BMDSTATS    9544 non-null float64\n",
      "BMXWT       9445 non-null float64\n",
      "BMIWT       443 non-null float64\n",
      "BMXRECUM    1073 non-null float64\n",
      "BMIRECUM    33 non-null float64\n",
      "BMXHEAD     215 non-null float64\n",
      "BMIHEAD     0 non-null float64\n",
      "BMXHT       8769 non-null float64\n",
      "BMIHT       105 non-null float64\n",
      "BMXBMI      8756 non-null float64\n",
      "BMDBMIC     3340 non-null float64\n",
      "BMXLEG      7110 non-null float64\n",
      "BMILEG      402 non-null float64\n",
      "BMXARML     8976 non-null float64\n",
      "BMIARML     420 non-null float64\n",
      "BMXARMC     8976 non-null float64\n",
      "BMIARMC     421 non-null float64\n",
      "BMXWAIST    8313 non-null float64\n",
      "BMIWAIST    489 non-null float64\n",
      "BMXSAD1     6983 non-null float64\n",
      "BMXSAD2     6983 non-null float64\n",
      "BMXSAD3     353 non-null float64\n",
      "BMXSAD4     353 non-null float64\n",
      "BMDAVSAD    6983 non-null float64\n",
      "BMDSADCM    446 non-null float64\n",
      "dtypes: float64(26)\n",
      "memory usage: 1.9 MB\n"
     ]
    }
   ],
   "source": [
    "bmx.info()"
   ]
  },
  {
   "cell_type": "code",
   "execution_count": 5,
   "metadata": {},
   "outputs": [],
   "source": [
    "demo = pd.read_sas('DEMO_I.XPT')"
   ]
  },
  {
   "cell_type": "code",
   "execution_count": 6,
   "metadata": {},
   "outputs": [
    {
     "data": {
      "text/html": [
       "<div>\n",
       "<style scoped>\n",
       "    .dataframe tbody tr th:only-of-type {\n",
       "        vertical-align: middle;\n",
       "    }\n",
       "\n",
       "    .dataframe tbody tr th {\n",
       "        vertical-align: top;\n",
       "    }\n",
       "\n",
       "    .dataframe thead th {\n",
       "        text-align: right;\n",
       "    }\n",
       "</style>\n",
       "<table border=\"1\" class=\"dataframe\">\n",
       "  <thead>\n",
       "    <tr style=\"text-align: right;\">\n",
       "      <th></th>\n",
       "      <th>SEQN</th>\n",
       "      <th>SDDSRVYR</th>\n",
       "      <th>RIDSTATR</th>\n",
       "      <th>RIAGENDR</th>\n",
       "      <th>RIDAGEYR</th>\n",
       "      <th>RIDAGEMN</th>\n",
       "      <th>RIDRETH1</th>\n",
       "      <th>RIDRETH3</th>\n",
       "      <th>RIDEXMON</th>\n",
       "      <th>RIDEXAGM</th>\n",
       "      <th>...</th>\n",
       "      <th>DMDHREDU</th>\n",
       "      <th>DMDHRMAR</th>\n",
       "      <th>DMDHSEDU</th>\n",
       "      <th>WTINT2YR</th>\n",
       "      <th>WTMEC2YR</th>\n",
       "      <th>SDMVPSU</th>\n",
       "      <th>SDMVSTRA</th>\n",
       "      <th>INDHHIN2</th>\n",
       "      <th>INDFMIN2</th>\n",
       "      <th>INDFMPIR</th>\n",
       "    </tr>\n",
       "  </thead>\n",
       "  <tbody>\n",
       "    <tr>\n",
       "      <th>0</th>\n",
       "      <td>83732.0</td>\n",
       "      <td>9.0</td>\n",
       "      <td>2.0</td>\n",
       "      <td>1.0</td>\n",
       "      <td>62.0</td>\n",
       "      <td>NaN</td>\n",
       "      <td>3.0</td>\n",
       "      <td>3.0</td>\n",
       "      <td>1.0</td>\n",
       "      <td>NaN</td>\n",
       "      <td>...</td>\n",
       "      <td>5.0</td>\n",
       "      <td>1.0</td>\n",
       "      <td>3.0</td>\n",
       "      <td>134671.370419</td>\n",
       "      <td>135629.507405</td>\n",
       "      <td>1.0</td>\n",
       "      <td>125.0</td>\n",
       "      <td>10.0</td>\n",
       "      <td>10.0</td>\n",
       "      <td>4.39</td>\n",
       "    </tr>\n",
       "    <tr>\n",
       "      <th>1</th>\n",
       "      <td>83733.0</td>\n",
       "      <td>9.0</td>\n",
       "      <td>2.0</td>\n",
       "      <td>1.0</td>\n",
       "      <td>53.0</td>\n",
       "      <td>NaN</td>\n",
       "      <td>3.0</td>\n",
       "      <td>3.0</td>\n",
       "      <td>1.0</td>\n",
       "      <td>NaN</td>\n",
       "      <td>...</td>\n",
       "      <td>3.0</td>\n",
       "      <td>3.0</td>\n",
       "      <td>NaN</td>\n",
       "      <td>24328.560239</td>\n",
       "      <td>25282.425927</td>\n",
       "      <td>1.0</td>\n",
       "      <td>125.0</td>\n",
       "      <td>4.0</td>\n",
       "      <td>4.0</td>\n",
       "      <td>1.32</td>\n",
       "    </tr>\n",
       "    <tr>\n",
       "      <th>2</th>\n",
       "      <td>83734.0</td>\n",
       "      <td>9.0</td>\n",
       "      <td>2.0</td>\n",
       "      <td>1.0</td>\n",
       "      <td>78.0</td>\n",
       "      <td>NaN</td>\n",
       "      <td>3.0</td>\n",
       "      <td>3.0</td>\n",
       "      <td>2.0</td>\n",
       "      <td>NaN</td>\n",
       "      <td>...</td>\n",
       "      <td>3.0</td>\n",
       "      <td>1.0</td>\n",
       "      <td>3.0</td>\n",
       "      <td>12400.008522</td>\n",
       "      <td>12575.838818</td>\n",
       "      <td>1.0</td>\n",
       "      <td>131.0</td>\n",
       "      <td>5.0</td>\n",
       "      <td>5.0</td>\n",
       "      <td>1.51</td>\n",
       "    </tr>\n",
       "    <tr>\n",
       "      <th>3</th>\n",
       "      <td>83735.0</td>\n",
       "      <td>9.0</td>\n",
       "      <td>2.0</td>\n",
       "      <td>2.0</td>\n",
       "      <td>56.0</td>\n",
       "      <td>NaN</td>\n",
       "      <td>3.0</td>\n",
       "      <td>3.0</td>\n",
       "      <td>2.0</td>\n",
       "      <td>NaN</td>\n",
       "      <td>...</td>\n",
       "      <td>5.0</td>\n",
       "      <td>6.0</td>\n",
       "      <td>NaN</td>\n",
       "      <td>102717.995647</td>\n",
       "      <td>102078.634508</td>\n",
       "      <td>1.0</td>\n",
       "      <td>131.0</td>\n",
       "      <td>10.0</td>\n",
       "      <td>10.0</td>\n",
       "      <td>5.00</td>\n",
       "    </tr>\n",
       "    <tr>\n",
       "      <th>4</th>\n",
       "      <td>83736.0</td>\n",
       "      <td>9.0</td>\n",
       "      <td>2.0</td>\n",
       "      <td>2.0</td>\n",
       "      <td>42.0</td>\n",
       "      <td>NaN</td>\n",
       "      <td>4.0</td>\n",
       "      <td>4.0</td>\n",
       "      <td>2.0</td>\n",
       "      <td>NaN</td>\n",
       "      <td>...</td>\n",
       "      <td>4.0</td>\n",
       "      <td>3.0</td>\n",
       "      <td>NaN</td>\n",
       "      <td>17627.674984</td>\n",
       "      <td>18234.736219</td>\n",
       "      <td>2.0</td>\n",
       "      <td>126.0</td>\n",
       "      <td>7.0</td>\n",
       "      <td>7.0</td>\n",
       "      <td>1.23</td>\n",
       "    </tr>\n",
       "  </tbody>\n",
       "</table>\n",
       "<p>5 rows × 47 columns</p>\n",
       "</div>"
      ],
      "text/plain": [
       "      SEQN  SDDSRVYR  RIDSTATR  RIAGENDR  RIDAGEYR  RIDAGEMN  RIDRETH1  \\\n",
       "0  83732.0       9.0       2.0       1.0      62.0       NaN       3.0   \n",
       "1  83733.0       9.0       2.0       1.0      53.0       NaN       3.0   \n",
       "2  83734.0       9.0       2.0       1.0      78.0       NaN       3.0   \n",
       "3  83735.0       9.0       2.0       2.0      56.0       NaN       3.0   \n",
       "4  83736.0       9.0       2.0       2.0      42.0       NaN       4.0   \n",
       "\n",
       "   RIDRETH3  RIDEXMON  RIDEXAGM    ...     DMDHREDU  DMDHRMAR  DMDHSEDU  \\\n",
       "0       3.0       1.0       NaN    ...          5.0       1.0       3.0   \n",
       "1       3.0       1.0       NaN    ...          3.0       3.0       NaN   \n",
       "2       3.0       2.0       NaN    ...          3.0       1.0       3.0   \n",
       "3       3.0       2.0       NaN    ...          5.0       6.0       NaN   \n",
       "4       4.0       2.0       NaN    ...          4.0       3.0       NaN   \n",
       "\n",
       "        WTINT2YR       WTMEC2YR  SDMVPSU  SDMVSTRA  INDHHIN2  INDFMIN2  \\\n",
       "0  134671.370419  135629.507405      1.0     125.0      10.0      10.0   \n",
       "1   24328.560239   25282.425927      1.0     125.0       4.0       4.0   \n",
       "2   12400.008522   12575.838818      1.0     131.0       5.0       5.0   \n",
       "3  102717.995647  102078.634508      1.0     131.0      10.0      10.0   \n",
       "4   17627.674984   18234.736219      2.0     126.0       7.0       7.0   \n",
       "\n",
       "   INDFMPIR  \n",
       "0      4.39  \n",
       "1      1.32  \n",
       "2      1.51  \n",
       "3      5.00  \n",
       "4      1.23  \n",
       "\n",
       "[5 rows x 47 columns]"
      ]
     },
     "execution_count": 6,
     "metadata": {},
     "output_type": "execute_result"
    }
   ],
   "source": [
    "demo.head()"
   ]
  },
  {
   "cell_type": "code",
   "execution_count": 7,
   "metadata": {},
   "outputs": [
    {
     "name": "stdout",
     "output_type": "stream",
     "text": [
      "<class 'pandas.core.frame.DataFrame'>\n",
      "RangeIndex: 9971 entries, 0 to 9970\n",
      "Data columns (total 47 columns):\n",
      "SEQN        9971 non-null float64\n",
      "SDDSRVYR    9971 non-null float64\n",
      "RIDSTATR    9971 non-null float64\n",
      "RIAGENDR    9971 non-null float64\n",
      "RIDAGEYR    9971 non-null float64\n",
      "RIDAGEMN    695 non-null float64\n",
      "RIDRETH1    9971 non-null float64\n",
      "RIDRETH3    9971 non-null float64\n",
      "RIDEXMON    9544 non-null float64\n",
      "RIDEXAGM    4060 non-null float64\n",
      "DMQMILIZ    6149 non-null float64\n",
      "DMQADFC     527 non-null float64\n",
      "DMDBORN4    9971 non-null float64\n",
      "DMDCITZN    9969 non-null float64\n",
      "DMDYRSUS    2236 non-null float64\n",
      "DMDEDUC3    2647 non-null float64\n",
      "DMDEDUC2    5719 non-null float64\n",
      "DMDMARTL    5719 non-null float64\n",
      "RIDEXPRG    1288 non-null float64\n",
      "SIALANG     9971 non-null float64\n",
      "SIAPROXY    9970 non-null float64\n",
      "SIAINTRP    9971 non-null float64\n",
      "FIALANG     9642 non-null float64\n",
      "FIAPROXY    9642 non-null float64\n",
      "FIAINTRP    9642 non-null float64\n",
      "MIALANG     6977 non-null float64\n",
      "MIAPROXY    6978 non-null float64\n",
      "MIAINTRP    6978 non-null float64\n",
      "AIALANGA    5962 non-null float64\n",
      "DMDHHSIZ    9971 non-null float64\n",
      "DMDFMSIZ    9971 non-null float64\n",
      "DMDHHSZA    9971 non-null float64\n",
      "DMDHHSZB    9971 non-null float64\n",
      "DMDHHSZE    9971 non-null float64\n",
      "DMDHRGND    9971 non-null float64\n",
      "DMDHRAGE    9971 non-null float64\n",
      "DMDHRBR4    9575 non-null float64\n",
      "DMDHREDU    9575 non-null float64\n",
      "DMDHRMAR    9909 non-null float64\n",
      "DMDHSEDU    5226 non-null float64\n",
      "WTINT2YR    9971 non-null float64\n",
      "WTMEC2YR    9971 non-null float64\n",
      "SDMVPSU     9971 non-null float64\n",
      "SDMVSTRA    9971 non-null float64\n",
      "INDHHIN2    9626 non-null float64\n",
      "INDFMIN2    9642 non-null float64\n",
      "INDFMPIR    8919 non-null float64\n",
      "dtypes: float64(47)\n",
      "memory usage: 3.6 MB\n"
     ]
    }
   ],
   "source": [
    "demo.info()"
   ]
  },
  {
   "cell_type": "code",
   "execution_count": 8,
   "metadata": {},
   "outputs": [],
   "source": [
    "merged = bmx.merge(right = demo, on = 'SEQN')"
   ]
  },
  {
   "cell_type": "code",
   "execution_count": 9,
   "metadata": {},
   "outputs": [
    {
     "name": "stdout",
     "output_type": "stream",
     "text": [
      "      SEQN  BMDSTATS  BMXWT  BMIWT  BMXRECUM  BMIRECUM  BMXHEAD  BMIHEAD  \\\n",
      "0  83732.0       1.0   94.8    NaN       NaN       NaN      NaN      NaN   \n",
      "1  83733.0       1.0   90.4    NaN       NaN       NaN      NaN      NaN   \n",
      "2  83734.0       1.0   83.4    NaN       NaN       NaN      NaN      NaN   \n",
      "3  83735.0       1.0  109.8    NaN       NaN       NaN      NaN      NaN   \n",
      "4  83736.0       3.0   55.2    NaN       NaN       NaN      NaN      NaN   \n",
      "\n",
      "   BMXHT  BMIHT    ...     DMDHREDU  DMDHRMAR  DMDHSEDU       WTINT2YR  \\\n",
      "0  184.5    NaN    ...          5.0       1.0       3.0  134671.370419   \n",
      "1  171.4    NaN    ...          3.0       3.0       NaN   24328.560239   \n",
      "2  170.1    NaN    ...          3.0       1.0       3.0   12400.008522   \n",
      "3  160.9    NaN    ...          5.0       6.0       NaN  102717.995647   \n",
      "4  164.9    NaN    ...          4.0       3.0       NaN   17627.674984   \n",
      "\n",
      "        WTMEC2YR  SDMVPSU  SDMVSTRA  INDHHIN2  INDFMIN2  INDFMPIR  \n",
      "0  135629.507405      1.0     125.0      10.0      10.0      4.39  \n",
      "1   25282.425927      1.0     125.0       4.0       4.0      1.32  \n",
      "2   12575.838818      1.0     131.0       5.0       5.0      1.51  \n",
      "3  102078.634508      1.0     131.0      10.0      10.0      5.00  \n",
      "4   18234.736219      2.0     126.0       7.0       7.0      1.23  \n",
      "\n",
      "[5 rows x 72 columns]\n"
     ]
    }
   ],
   "source": [
    "print(merged.head())"
   ]
  },
  {
   "cell_type": "markdown",
   "metadata": {},
   "source": [
    "# Question 1"
   ]
  },
  {
   "cell_type": "markdown",
   "metadata": {},
   "source": [
    "Guiding question: Do baby boys weigh more than baby girls on average?\n",
    "\n",
    "- [5 pts] Calculate and display the mean weight of baby boys for each month, from month 0 to 12.\n",
    "You’ll produce 13 values, one for each month.\n",
    "- [5 pts] Calculate and display the mean weight of baby girls for each month, from month 0 to 12.\n",
    "- [5 pts] Calculate and display the difference between the mean weights of boys and girls for each\n",
    "month.\n",
    "- [10 pts] Make a line plot showing two lines: one for boys’ mean weights months 0-12, and one\n",
    "for girls’ mean weights 0-12 (in a different color). The month will go on the x-axis, and the mean\n",
    "weight will go on the y-axis.\n",
    "- [10 pts] (with seaborn) Make a scatterplot with linear regression lines for the baby boys’\n",
    "relationship between age and wt, and the baby girls’ relationship between age and wt.\n",
    "- [5 pts + up to 5 pts bonus if excellent] Comment on what you think the data says about the\n",
    "guiding question. Include any additional analysis you deem appropriate."
   ]
  },
  {
   "cell_type": "code",
   "execution_count": 10,
   "metadata": {},
   "outputs": [
    {
     "data": {
      "text/plain": [
       "(192, 72)"
      ]
     },
     "execution_count": 10,
     "metadata": {},
     "output_type": "execute_result"
    }
   ],
   "source": [
    "merged.loc[merged.RIAGENDR == 1].loc[merged.RIDAGEMN < 13].shape"
   ]
  },
  {
   "cell_type": "code",
   "execution_count": 11,
   "metadata": {},
   "outputs": [
    {
     "data": {
      "text/plain": [
       "(207, 72)"
      ]
     },
     "execution_count": 11,
     "metadata": {},
     "output_type": "execute_result"
    }
   ],
   "source": [
    "merged.loc[merged.RIAGENDR == 2].loc[merged.RIDAGEMN < 13].shape"
   ]
  },
  {
   "cell_type": "markdown",
   "metadata": {},
   "source": [
    " Calculate and display the mean weight of baby boys for each month, from month 0 to 12. You’ll produce 13 values, one for each month."
   ]
  },
  {
   "cell_type": "code",
   "execution_count": 12,
   "metadata": {},
   "outputs": [],
   "source": [
    "# boys, 12  months and less\n",
    "babyboy = merged.loc[merged.RIAGENDR == 1].loc[merged.RIDAGEMN <= 12]"
   ]
  },
  {
   "cell_type": "code",
   "execution_count": 13,
   "metadata": {},
   "outputs": [],
   "source": [
    "babyboy['age'] = babyboy.RIDAGEMN.astype('int')"
   ]
  },
  {
   "cell_type": "code",
   "execution_count": 14,
   "metadata": {},
   "outputs": [
    {
     "data": {
      "text/plain": [
       "age\n",
       "0      4.794444\n",
       "1      5.791667\n",
       "2      6.661111\n",
       "3      7.000000\n",
       "4      7.795000\n",
       "5      8.525000\n",
       "6      8.263636\n",
       "7      9.061111\n",
       "8      9.322222\n",
       "9     10.093750\n",
       "10    10.364286\n",
       "11     9.963636\n",
       "12    10.523077\n",
       "Name: BMXWT, dtype: float64"
      ]
     },
     "execution_count": 14,
     "metadata": {},
     "output_type": "execute_result"
    }
   ],
   "source": [
    "boy_wts_month = babyboy.groupby('age')['BMXWT'].mean()\n",
    "boy_wts_month"
   ]
  },
  {
   "cell_type": "markdown",
   "metadata": {},
   "source": [
    "[5 pts] Calculate and display the mean weight of baby girls for each month, from month 0 to 12."
   ]
  },
  {
   "cell_type": "code",
   "execution_count": 15,
   "metadata": {},
   "outputs": [
    {
     "data": {
      "text/plain": [
       "age\n",
       "0     4.508333\n",
       "1     5.457143\n",
       "2     5.712500\n",
       "3     6.553846\n",
       "4     7.052941\n",
       "5     7.647059\n",
       "6     8.005263\n",
       "7     8.190909\n",
       "8     8.303704\n",
       "9     9.243750\n",
       "10    9.066667\n",
       "11    9.100000\n",
       "12    9.757143\n",
       "Name: BMXWT, dtype: float64"
      ]
     },
     "execution_count": 15,
     "metadata": {},
     "output_type": "execute_result"
    }
   ],
   "source": [
    "# girls, 12  months and less\n",
    "babygirl = merged.loc[merged.RIAGENDR == 2].loc[merged.RIDAGEMN <= 12]\n",
    "babygirl['age'] = babygirl.RIDAGEMN.astype('int')\n",
    "girl_wts_month = babygirl.groupby('age')['BMXWT'].mean()\n",
    "girl_wts_month"
   ]
  },
  {
   "cell_type": "markdown",
   "metadata": {},
   "source": [
    "[5 pts] Calculate and display the difference between the mean weights of boys and girls for each month."
   ]
  },
  {
   "cell_type": "code",
   "execution_count": 16,
   "metadata": {},
   "outputs": [
    {
     "data": {
      "text/html": [
       "<div>\n",
       "<style scoped>\n",
       "    .dataframe tbody tr th:only-of-type {\n",
       "        vertical-align: middle;\n",
       "    }\n",
       "\n",
       "    .dataframe tbody tr th {\n",
       "        vertical-align: top;\n",
       "    }\n",
       "\n",
       "    .dataframe thead th {\n",
       "        text-align: right;\n",
       "    }\n",
       "</style>\n",
       "<table border=\"1\" class=\"dataframe\">\n",
       "  <thead>\n",
       "    <tr style=\"text-align: right;\">\n",
       "      <th></th>\n",
       "      <th>boys</th>\n",
       "      <th>girls</th>\n",
       "    </tr>\n",
       "    <tr>\n",
       "      <th>age</th>\n",
       "      <th></th>\n",
       "      <th></th>\n",
       "    </tr>\n",
       "  </thead>\n",
       "  <tbody>\n",
       "    <tr>\n",
       "      <th>0</th>\n",
       "      <td>4.794444</td>\n",
       "      <td>4.508333</td>\n",
       "    </tr>\n",
       "    <tr>\n",
       "      <th>1</th>\n",
       "      <td>5.791667</td>\n",
       "      <td>5.457143</td>\n",
       "    </tr>\n",
       "    <tr>\n",
       "      <th>2</th>\n",
       "      <td>6.661111</td>\n",
       "      <td>5.712500</td>\n",
       "    </tr>\n",
       "    <tr>\n",
       "      <th>3</th>\n",
       "      <td>7.000000</td>\n",
       "      <td>6.553846</td>\n",
       "    </tr>\n",
       "    <tr>\n",
       "      <th>4</th>\n",
       "      <td>7.795000</td>\n",
       "      <td>7.052941</td>\n",
       "    </tr>\n",
       "    <tr>\n",
       "      <th>5</th>\n",
       "      <td>8.525000</td>\n",
       "      <td>7.647059</td>\n",
       "    </tr>\n",
       "    <tr>\n",
       "      <th>6</th>\n",
       "      <td>8.263636</td>\n",
       "      <td>8.005263</td>\n",
       "    </tr>\n",
       "    <tr>\n",
       "      <th>7</th>\n",
       "      <td>9.061111</td>\n",
       "      <td>8.190909</td>\n",
       "    </tr>\n",
       "    <tr>\n",
       "      <th>8</th>\n",
       "      <td>9.322222</td>\n",
       "      <td>8.303704</td>\n",
       "    </tr>\n",
       "    <tr>\n",
       "      <th>9</th>\n",
       "      <td>10.093750</td>\n",
       "      <td>9.243750</td>\n",
       "    </tr>\n",
       "    <tr>\n",
       "      <th>10</th>\n",
       "      <td>10.364286</td>\n",
       "      <td>9.066667</td>\n",
       "    </tr>\n",
       "    <tr>\n",
       "      <th>11</th>\n",
       "      <td>9.963636</td>\n",
       "      <td>9.100000</td>\n",
       "    </tr>\n",
       "    <tr>\n",
       "      <th>12</th>\n",
       "      <td>10.523077</td>\n",
       "      <td>9.757143</td>\n",
       "    </tr>\n",
       "  </tbody>\n",
       "</table>\n",
       "</div>"
      ],
      "text/plain": [
       "          boys     girls\n",
       "age                     \n",
       "0     4.794444  4.508333\n",
       "1     5.791667  5.457143\n",
       "2     6.661111  5.712500\n",
       "3     7.000000  6.553846\n",
       "4     7.795000  7.052941\n",
       "5     8.525000  7.647059\n",
       "6     8.263636  8.005263\n",
       "7     9.061111  8.190909\n",
       "8     9.322222  8.303704\n",
       "9    10.093750  9.243750\n",
       "10   10.364286  9.066667\n",
       "11    9.963636  9.100000\n",
       "12   10.523077  9.757143"
      ]
     },
     "execution_count": 16,
     "metadata": {},
     "output_type": "execute_result"
    }
   ],
   "source": [
    "month_wts = pd.DataFrame({'boys': boy_wts_month, 'girls': girl_wts_month})\n",
    "month_wts"
   ]
  },
  {
   "cell_type": "code",
   "execution_count": 17,
   "metadata": {},
   "outputs": [],
   "source": [
    "month_wts['difference'] = month_wts.boys - month_wts.girls"
   ]
  },
  {
   "cell_type": "code",
   "execution_count": 18,
   "metadata": {},
   "outputs": [
    {
     "data": {
      "text/html": [
       "<div>\n",
       "<style scoped>\n",
       "    .dataframe tbody tr th:only-of-type {\n",
       "        vertical-align: middle;\n",
       "    }\n",
       "\n",
       "    .dataframe tbody tr th {\n",
       "        vertical-align: top;\n",
       "    }\n",
       "\n",
       "    .dataframe thead th {\n",
       "        text-align: right;\n",
       "    }\n",
       "</style>\n",
       "<table border=\"1\" class=\"dataframe\">\n",
       "  <thead>\n",
       "    <tr style=\"text-align: right;\">\n",
       "      <th></th>\n",
       "      <th>boys</th>\n",
       "      <th>girls</th>\n",
       "      <th>difference</th>\n",
       "    </tr>\n",
       "    <tr>\n",
       "      <th>age</th>\n",
       "      <th></th>\n",
       "      <th></th>\n",
       "      <th></th>\n",
       "    </tr>\n",
       "  </thead>\n",
       "  <tbody>\n",
       "    <tr>\n",
       "      <th>0</th>\n",
       "      <td>4.794444</td>\n",
       "      <td>4.508333</td>\n",
       "      <td>0.286111</td>\n",
       "    </tr>\n",
       "    <tr>\n",
       "      <th>1</th>\n",
       "      <td>5.791667</td>\n",
       "      <td>5.457143</td>\n",
       "      <td>0.334524</td>\n",
       "    </tr>\n",
       "    <tr>\n",
       "      <th>2</th>\n",
       "      <td>6.661111</td>\n",
       "      <td>5.712500</td>\n",
       "      <td>0.948611</td>\n",
       "    </tr>\n",
       "    <tr>\n",
       "      <th>3</th>\n",
       "      <td>7.000000</td>\n",
       "      <td>6.553846</td>\n",
       "      <td>0.446154</td>\n",
       "    </tr>\n",
       "    <tr>\n",
       "      <th>4</th>\n",
       "      <td>7.795000</td>\n",
       "      <td>7.052941</td>\n",
       "      <td>0.742059</td>\n",
       "    </tr>\n",
       "    <tr>\n",
       "      <th>5</th>\n",
       "      <td>8.525000</td>\n",
       "      <td>7.647059</td>\n",
       "      <td>0.877941</td>\n",
       "    </tr>\n",
       "    <tr>\n",
       "      <th>6</th>\n",
       "      <td>8.263636</td>\n",
       "      <td>8.005263</td>\n",
       "      <td>0.258373</td>\n",
       "    </tr>\n",
       "    <tr>\n",
       "      <th>7</th>\n",
       "      <td>9.061111</td>\n",
       "      <td>8.190909</td>\n",
       "      <td>0.870202</td>\n",
       "    </tr>\n",
       "    <tr>\n",
       "      <th>8</th>\n",
       "      <td>9.322222</td>\n",
       "      <td>8.303704</td>\n",
       "      <td>1.018519</td>\n",
       "    </tr>\n",
       "    <tr>\n",
       "      <th>9</th>\n",
       "      <td>10.093750</td>\n",
       "      <td>9.243750</td>\n",
       "      <td>0.850000</td>\n",
       "    </tr>\n",
       "    <tr>\n",
       "      <th>10</th>\n",
       "      <td>10.364286</td>\n",
       "      <td>9.066667</td>\n",
       "      <td>1.297619</td>\n",
       "    </tr>\n",
       "    <tr>\n",
       "      <th>11</th>\n",
       "      <td>9.963636</td>\n",
       "      <td>9.100000</td>\n",
       "      <td>0.863636</td>\n",
       "    </tr>\n",
       "    <tr>\n",
       "      <th>12</th>\n",
       "      <td>10.523077</td>\n",
       "      <td>9.757143</td>\n",
       "      <td>0.765934</td>\n",
       "    </tr>\n",
       "  </tbody>\n",
       "</table>\n",
       "</div>"
      ],
      "text/plain": [
       "          boys     girls  difference\n",
       "age                                 \n",
       "0     4.794444  4.508333    0.286111\n",
       "1     5.791667  5.457143    0.334524\n",
       "2     6.661111  5.712500    0.948611\n",
       "3     7.000000  6.553846    0.446154\n",
       "4     7.795000  7.052941    0.742059\n",
       "5     8.525000  7.647059    0.877941\n",
       "6     8.263636  8.005263    0.258373\n",
       "7     9.061111  8.190909    0.870202\n",
       "8     9.322222  8.303704    1.018519\n",
       "9    10.093750  9.243750    0.850000\n",
       "10   10.364286  9.066667    1.297619\n",
       "11    9.963636  9.100000    0.863636\n",
       "12   10.523077  9.757143    0.765934"
      ]
     },
     "execution_count": 18,
     "metadata": {},
     "output_type": "execute_result"
    }
   ],
   "source": [
    "month_wts"
   ]
  },
  {
   "cell_type": "code",
   "execution_count": 19,
   "metadata": {},
   "outputs": [
    {
     "data": {
      "text/plain": [
       "<matplotlib.legend.Legend at 0x121074630>"
      ]
     },
     "execution_count": 19,
     "metadata": {},
     "output_type": "execute_result"
    },
    {
     "data": {
      "image/png": "[encoded data removed]",
      "text/plain": [
       "<Figure size 432x288 with 1 Axes>"
      ]
     },
     "metadata": {
      "needs_background": "light"
     },
     "output_type": "display_data"
    }
   ],
   "source": [
    "month_wts.boys.plot(label = \"boys\")\n",
    "month_wts.girls.plot(label = \"girls\")\n",
    "plt.ylabel('average weight in pounds')\n",
    "plt.xlabel('age in months')\n",
    "plt.legend()"
   ]
  },
  {
   "cell_type": "markdown",
   "metadata": {},
   "source": [
    "[10 pts] (with seaborn) Make a scatterplot with linear regression lines for the baby boys’ relationship between age and wt, and the baby girls’ relationship between age and wt."
   ]
  },
  {
   "cell_type": "code",
   "execution_count": 20,
   "metadata": {},
   "outputs": [],
   "source": [
    "import seaborn as sns"
   ]
  },
  {
   "cell_type": "code",
   "execution_count": 21,
   "metadata": {},
   "outputs": [
    {
     "name": "stderr",
     "output_type": "stream",
     "text": [
      "/Users/joyharjanto/anaconda3/lib/python3.7/site-packages/scipy/stats/stats.py:1713: FutureWarning: Using a non-tuple sequence for multidimensional indexing is deprecated; use `arr[tuple(seq)]` instead of `arr[seq]`. In the future this will be interpreted as an array index, `arr[np.array(seq)]`, which will result either in an error or a different result.\n",
      "  return np.add.reduce(sorted[indexer] * weights, axis=axis) / sumval\n"
     ]
    },
    {
     "data": {
      "text/plain": [
       "<seaborn.axisgrid.FacetGrid at 0x1a24355ac8>"
      ]
     },
     "execution_count": 21,
     "metadata": {},
     "output_type": "execute_result"
    },
    {
     "data": {
      "image/png": "[encoded data removed]",
      "text/plain": [
       "<Figure size 420.75x360 with 1 Axes>"
      ]
     },
     "metadata": {
      "needs_background": "light"
     },
     "output_type": "display_data"
    }
   ],
   "source": [
    "all_babies = merged.loc[merged.RIDAGEMN < 13]\n",
    "sns.lmplot(x=\"RIDAGEMN\", y=\"BMXWT\", hue=\"RIAGENDR\", data=all_babies)"
   ]
  },
  {
   "cell_type": "markdown",
   "metadata": {},
   "source": [
    "It appears that on average baby boys weigh more than baby girls"
   ]
  },
  {
   "cell_type": "markdown",
   "metadata": {},
   "source": [
    "# Section 2: Height, leg length, arm length"
   ]
  },
  {
   "cell_type": "markdown",
   "metadata": {},
   "source": [
    "Guiding question: What’s the relationship between height and leg length and arm length. Does this\n",
    "relationship change with age?\n",
    "\n",
    "For all adults aged 20 and up, who have all three measurements of height, upper leg length, and upper\n",
    "arm length:\n",
    "\n",
    "- [3 pts] What is the correlation between standing height and upper leg length?\n",
    "- [3 pts] What is the correlation between standing height and upper arm length?\n",
    "- [3 pts] What is the correlation between upper leg length and upper arm length?\n",
    "- Make adult age groups by decade: i.e. adults aged 20-29.9, adults aged 30-39.9, … adults aged\n",
    "70-79.9, adults aged 80+ (7 groups total). (not required, but recommended: use pandas.cut …\n",
    "this function was not explicitly covered in the notes, but you should be able to read the\n",
    "documentation to learn function usage. If you use this, set option: right=False)\n",
    "- [10 pts] For each age group, calculate the mean of the three values.\n",
    "- [10 pts] We want to make a plot with three lines showing the relationship between the age\n",
    "decade and the mean height, leg length, and arm length.\n",
    "     - However, because leg length and arm length are similar in scale, but height is not,\n",
    "create an ‘adjusted height’ column which is the mean height minus 128 cm.\n",
    "     - Plot three lines: adjusted height, leg length, arm length.\n",
    "     - The x-axis will be the age decade, and the y-axis will be the mean measurement for each\n",
    "age group.\n",
    "     - Be sure to include a legend\n",
    "- [6 pts + up to 5 pts bonus if excellent] Comment on what you think the data says about the\n",
    "guiding question. Include any additional analysis you deem appropriate."
   ]
  },
  {
   "cell_type": "code",
   "execution_count": 22,
   "metadata": {},
   "outputs": [],
   "source": [
    "q2 = merged.loc[: , ['BMXHT', 'BMXLEG', 'BMXARML', 'RIDAGEYR' ]  ]"
   ]
  },
  {
   "cell_type": "code",
   "execution_count": 23,
   "metadata": {},
   "outputs": [
    {
     "data": {
      "text/html": [
       "<div>\n",
       "<style scoped>\n",
       "    .dataframe tbody tr th:only-of-type {\n",
       "        vertical-align: middle;\n",
       "    }\n",
       "\n",
       "    .dataframe tbody tr th {\n",
       "        vertical-align: top;\n",
       "    }\n",
       "\n",
       "    .dataframe thead th {\n",
       "        text-align: right;\n",
       "    }\n",
       "</style>\n",
       "<table border=\"1\" class=\"dataframe\">\n",
       "  <thead>\n",
       "    <tr style=\"text-align: right;\">\n",
       "      <th></th>\n",
       "      <th>BMXHT</th>\n",
       "      <th>BMXLEG</th>\n",
       "      <th>BMXARML</th>\n",
       "      <th>RIDAGEYR</th>\n",
       "    </tr>\n",
       "  </thead>\n",
       "  <tbody>\n",
       "    <tr>\n",
       "      <th>0</th>\n",
       "      <td>184.5</td>\n",
       "      <td>43.3</td>\n",
       "      <td>43.6</td>\n",
       "      <td>62.0</td>\n",
       "    </tr>\n",
       "    <tr>\n",
       "      <th>1</th>\n",
       "      <td>171.4</td>\n",
       "      <td>38.0</td>\n",
       "      <td>40.0</td>\n",
       "      <td>53.0</td>\n",
       "    </tr>\n",
       "    <tr>\n",
       "      <th>2</th>\n",
       "      <td>170.1</td>\n",
       "      <td>35.6</td>\n",
       "      <td>37.0</td>\n",
       "      <td>78.0</td>\n",
       "    </tr>\n",
       "    <tr>\n",
       "      <th>3</th>\n",
       "      <td>160.9</td>\n",
       "      <td>38.5</td>\n",
       "      <td>37.7</td>\n",
       "      <td>56.0</td>\n",
       "    </tr>\n",
       "    <tr>\n",
       "      <th>4</th>\n",
       "      <td>164.9</td>\n",
       "      <td>37.4</td>\n",
       "      <td>36.0</td>\n",
       "      <td>42.0</td>\n",
       "    </tr>\n",
       "  </tbody>\n",
       "</table>\n",
       "</div>"
      ],
      "text/plain": [
       "   BMXHT  BMXLEG  BMXARML  RIDAGEYR\n",
       "0  184.5    43.3     43.6      62.0\n",
       "1  171.4    38.0     40.0      53.0\n",
       "2  170.1    35.6     37.0      78.0\n",
       "3  160.9    38.5     37.7      56.0\n",
       "4  164.9    37.4     36.0      42.0"
      ]
     },
     "execution_count": 23,
     "metadata": {},
     "output_type": "execute_result"
    }
   ],
   "source": [
    "q2.head()"
   ]
  },
  {
   "cell_type": "code",
   "execution_count": 24,
   "metadata": {},
   "outputs": [],
   "source": [
    "adults = q2.loc[q2.RIDAGEYR >= 20, ]"
   ]
  },
  {
   "cell_type": "code",
   "execution_count": 25,
   "metadata": {},
   "outputs": [
    {
     "name": "stdout",
     "output_type": "stream",
     "text": [
      "<class 'pandas.core.frame.DataFrame'>\n",
      "Int64Index: 5474 entries, 0 to 9543\n",
      "Data columns (total 4 columns):\n",
      "BMXHT       5417 non-null float64\n",
      "BMXLEG      5094 non-null float64\n",
      "BMXARML     5175 non-null float64\n",
      "RIDAGEYR    5474 non-null float64\n",
      "dtypes: float64(4)\n",
      "memory usage: 213.8 KB\n"
     ]
    }
   ],
   "source": [
    "adults.info()"
   ]
  },
  {
   "cell_type": "code",
   "execution_count": 26,
   "metadata": {},
   "outputs": [],
   "source": [
    "# get rid of people without complete sets\n",
    "adults = adults.dropna()"
   ]
  },
  {
   "cell_type": "code",
   "execution_count": 27,
   "metadata": {},
   "outputs": [
    {
     "name": "stdout",
     "output_type": "stream",
     "text": [
      "<class 'pandas.core.frame.DataFrame'>\n",
      "Int64Index: 5086 entries, 0 to 9543\n",
      "Data columns (total 4 columns):\n",
      "BMXHT       5086 non-null float64\n",
      "BMXLEG      5086 non-null float64\n",
      "BMXARML     5086 non-null float64\n",
      "RIDAGEYR    5086 non-null float64\n",
      "dtypes: float64(4)\n",
      "memory usage: 198.7 KB\n"
     ]
    }
   ],
   "source": [
    "adults.info()"
   ]
  },
  {
   "cell_type": "markdown",
   "metadata": {},
   "source": [
    "- [3 pts] What is the correlation between standing height and upper leg length?\n",
    "- [3 pts] What is the correlation between standing height and upper arm length?\n",
    "- [3 pts] What is the correlation between upper leg length and upper arm length?"
   ]
  },
  {
   "cell_type": "code",
   "execution_count": 28,
   "metadata": {},
   "outputs": [
    {
     "data": {
      "text/html": [
       "<div>\n",
       "<style scoped>\n",
       "    .dataframe tbody tr th:only-of-type {\n",
       "        vertical-align: middle;\n",
       "    }\n",
       "\n",
       "    .dataframe tbody tr th {\n",
       "        vertical-align: top;\n",
       "    }\n",
       "\n",
       "    .dataframe thead th {\n",
       "        text-align: right;\n",
       "    }\n",
       "</style>\n",
       "<table border=\"1\" class=\"dataframe\">\n",
       "  <thead>\n",
       "    <tr style=\"text-align: right;\">\n",
       "      <th></th>\n",
       "      <th>BMXHT</th>\n",
       "      <th>BMXLEG</th>\n",
       "      <th>BMXARML</th>\n",
       "    </tr>\n",
       "  </thead>\n",
       "  <tbody>\n",
       "    <tr>\n",
       "      <th>BMXHT</th>\n",
       "      <td>1.000000</td>\n",
       "      <td>0.787449</td>\n",
       "      <td>0.797873</td>\n",
       "    </tr>\n",
       "    <tr>\n",
       "      <th>BMXLEG</th>\n",
       "      <td>0.787449</td>\n",
       "      <td>1.000000</td>\n",
       "      <td>0.629369</td>\n",
       "    </tr>\n",
       "    <tr>\n",
       "      <th>BMXARML</th>\n",
       "      <td>0.797873</td>\n",
       "      <td>0.629369</td>\n",
       "      <td>1.000000</td>\n",
       "    </tr>\n",
       "  </tbody>\n",
       "</table>\n",
       "</div>"
      ],
      "text/plain": [
       "            BMXHT    BMXLEG   BMXARML\n",
       "BMXHT    1.000000  0.787449  0.797873\n",
       "BMXLEG   0.787449  1.000000  0.629369\n",
       "BMXARML  0.797873  0.629369  1.000000"
      ]
     },
     "execution_count": 28,
     "metadata": {},
     "output_type": "execute_result"
    }
   ],
   "source": [
    "adults[['BMXHT', 'BMXLEG', 'BMXARML']].corr()"
   ]
  },
  {
   "cell_type": "markdown",
   "metadata": {},
   "source": [
    "Make adult age groups by decade: i.e. adults aged 20-29.9, adults aged 30-39.9, … adults aged 70-79.9, adults aged 80+ (7 groups total). (not required, but recommended: use pandas.cut … this function was not explicitly covered in the notes, but you should be able to read the documentation to learn function usage. If you use this, set option: right=False)"
   ]
  },
  {
   "cell_type": "code",
   "execution_count": 29,
   "metadata": {},
   "outputs": [
    {
     "data": {
      "text/plain": [
       "BMXHT       149.8\n",
       "BMXLEG       33.4\n",
       "BMXARML      36.2\n",
       "RIDAGEYR     80.0\n",
       "Name: 39, dtype: float64"
      ]
     },
     "execution_count": 29,
     "metadata": {},
     "output_type": "execute_result"
    }
   ],
   "source": [
    "adults.loc[39,]"
   ]
  },
  {
   "cell_type": "code",
   "execution_count": 30,
   "metadata": {},
   "outputs": [],
   "source": [
    "adults['age_cat'] = pd.cut(adults.RIDAGEYR, [20,30,40,50,60,70,80,150], right = False)"
   ]
  },
  {
   "cell_type": "code",
   "execution_count": 31,
   "metadata": {},
   "outputs": [
    {
     "data": {
      "text/html": [
       "<div>\n",
       "<style scoped>\n",
       "    .dataframe tbody tr th:only-of-type {\n",
       "        vertical-align: middle;\n",
       "    }\n",
       "\n",
       "    .dataframe tbody tr th {\n",
       "        vertical-align: top;\n",
       "    }\n",
       "\n",
       "    .dataframe thead th {\n",
       "        text-align: right;\n",
       "    }\n",
       "</style>\n",
       "<table border=\"1\" class=\"dataframe\">\n",
       "  <thead>\n",
       "    <tr style=\"text-align: right;\">\n",
       "      <th></th>\n",
       "      <th>BMXHT</th>\n",
       "      <th>BMXLEG</th>\n",
       "      <th>BMXARML</th>\n",
       "      <th>RIDAGEYR</th>\n",
       "      <th>age_cat</th>\n",
       "    </tr>\n",
       "  </thead>\n",
       "  <tbody>\n",
       "    <tr>\n",
       "      <th>0</th>\n",
       "      <td>184.5</td>\n",
       "      <td>43.3</td>\n",
       "      <td>43.6</td>\n",
       "      <td>62.0</td>\n",
       "      <td>[60, 70)</td>\n",
       "    </tr>\n",
       "    <tr>\n",
       "      <th>1</th>\n",
       "      <td>171.4</td>\n",
       "      <td>38.0</td>\n",
       "      <td>40.0</td>\n",
       "      <td>53.0</td>\n",
       "      <td>[50, 60)</td>\n",
       "    </tr>\n",
       "    <tr>\n",
       "      <th>2</th>\n",
       "      <td>170.1</td>\n",
       "      <td>35.6</td>\n",
       "      <td>37.0</td>\n",
       "      <td>78.0</td>\n",
       "      <td>[70, 80)</td>\n",
       "    </tr>\n",
       "    <tr>\n",
       "      <th>3</th>\n",
       "      <td>160.9</td>\n",
       "      <td>38.5</td>\n",
       "      <td>37.7</td>\n",
       "      <td>56.0</td>\n",
       "      <td>[50, 60)</td>\n",
       "    </tr>\n",
       "    <tr>\n",
       "      <th>4</th>\n",
       "      <td>164.9</td>\n",
       "      <td>37.4</td>\n",
       "      <td>36.0</td>\n",
       "      <td>42.0</td>\n",
       "      <td>[40, 50)</td>\n",
       "    </tr>\n",
       "  </tbody>\n",
       "</table>\n",
       "</div>"
      ],
      "text/plain": [
       "   BMXHT  BMXLEG  BMXARML  RIDAGEYR   age_cat\n",
       "0  184.5    43.3     43.6      62.0  [60, 70)\n",
       "1  171.4    38.0     40.0      53.0  [50, 60)\n",
       "2  170.1    35.6     37.0      78.0  [70, 80)\n",
       "3  160.9    38.5     37.7      56.0  [50, 60)\n",
       "4  164.9    37.4     36.0      42.0  [40, 50)"
      ]
     },
     "execution_count": 31,
     "metadata": {},
     "output_type": "execute_result"
    }
   ],
   "source": [
    "adults.head()"
   ]
  },
  {
   "cell_type": "code",
   "execution_count": 32,
   "metadata": {},
   "outputs": [],
   "source": [
    "results = adults.groupby('age_cat')[['BMXHT', 'BMXLEG', 'BMXARML']].mean()"
   ]
  },
  {
   "cell_type": "code",
   "execution_count": 33,
   "metadata": {},
   "outputs": [
    {
     "data": {
      "text/html": [
       "<div>\n",
       "<style scoped>\n",
       "    .dataframe tbody tr th:only-of-type {\n",
       "        vertical-align: middle;\n",
       "    }\n",
       "\n",
       "    .dataframe tbody tr th {\n",
       "        vertical-align: top;\n",
       "    }\n",
       "\n",
       "    .dataframe thead th {\n",
       "        text-align: right;\n",
       "    }\n",
       "</style>\n",
       "<table border=\"1\" class=\"dataframe\">\n",
       "  <thead>\n",
       "    <tr style=\"text-align: right;\">\n",
       "      <th></th>\n",
       "      <th>BMXHT</th>\n",
       "      <th>BMXLEG</th>\n",
       "      <th>BMXARML</th>\n",
       "    </tr>\n",
       "    <tr>\n",
       "      <th>age_cat</th>\n",
       "      <th></th>\n",
       "      <th></th>\n",
       "      <th></th>\n",
       "    </tr>\n",
       "  </thead>\n",
       "  <tbody>\n",
       "    <tr>\n",
       "      <th>[20, 30)</th>\n",
       "      <td>167.879617</td>\n",
       "      <td>40.064189</td>\n",
       "      <td>37.068919</td>\n",
       "    </tr>\n",
       "    <tr>\n",
       "      <th>[30, 40)</th>\n",
       "      <td>167.488202</td>\n",
       "      <td>39.556128</td>\n",
       "      <td>37.154754</td>\n",
       "    </tr>\n",
       "    <tr>\n",
       "      <th>[40, 50)</th>\n",
       "      <td>166.563244</td>\n",
       "      <td>38.680863</td>\n",
       "      <td>37.094632</td>\n",
       "    </tr>\n",
       "    <tr>\n",
       "      <th>[50, 60)</th>\n",
       "      <td>166.351476</td>\n",
       "      <td>38.163400</td>\n",
       "      <td>37.188784</td>\n",
       "    </tr>\n",
       "    <tr>\n",
       "      <th>[60, 70)</th>\n",
       "      <td>164.977480</td>\n",
       "      <td>37.342707</td>\n",
       "      <td>37.252859</td>\n",
       "    </tr>\n",
       "    <tr>\n",
       "      <th>[70, 80)</th>\n",
       "      <td>164.728016</td>\n",
       "      <td>36.984049</td>\n",
       "      <td>37.350102</td>\n",
       "    </tr>\n",
       "    <tr>\n",
       "      <th>[80, 150)</th>\n",
       "      <td>162.097091</td>\n",
       "      <td>36.516000</td>\n",
       "      <td>36.908000</td>\n",
       "    </tr>\n",
       "  </tbody>\n",
       "</table>\n",
       "</div>"
      ],
      "text/plain": [
       "                BMXHT     BMXLEG    BMXARML\n",
       "age_cat                                    \n",
       "[20, 30)   167.879617  40.064189  37.068919\n",
       "[30, 40)   167.488202  39.556128  37.154754\n",
       "[40, 50)   166.563244  38.680863  37.094632\n",
       "[50, 60)   166.351476  38.163400  37.188784\n",
       "[60, 70)   164.977480  37.342707  37.252859\n",
       "[70, 80)   164.728016  36.984049  37.350102\n",
       "[80, 150)  162.097091  36.516000  36.908000"
      ]
     },
     "execution_count": 33,
     "metadata": {},
     "output_type": "execute_result"
    }
   ],
   "source": [
    "results"
   ]
  },
  {
   "cell_type": "markdown",
   "metadata": {},
   "source": [
    "[10 pts] We want to make a plot with three lines showing the relationship between the age decade and the mean height, leg length, and arm length.\n",
    "\n",
    "- However, because leg length and arm length are similar in scale, but height is not, create an ‘adjusted height’ column which is the mean height minus 128 cm.\n",
    "- Plot three lines: adjusted height, leg length, arm length.\n",
    "- The x-axis will be the age decade, and the y-axis will be the mean measurement for each age group.\n",
    "- Be sure to include a legend"
   ]
  },
  {
   "cell_type": "code",
   "execution_count": 34,
   "metadata": {},
   "outputs": [],
   "source": [
    "results['adjusted_height'] = results.BMXHT - 128"
   ]
  },
  {
   "cell_type": "code",
   "execution_count": 35,
   "metadata": {},
   "outputs": [
    {
     "data": {
      "text/plain": [
       "<matplotlib.axes._subplots.AxesSubplot at 0x1a245356a0>"
      ]
     },
     "execution_count": 35,
     "metadata": {},
     "output_type": "execute_result"
    },
    {
     "data": {
      "image/png": "[encoded data removed]",
      "text/plain": [
       "<Figure size 432x288 with 1 Axes>"
      ]
     },
     "metadata": {
      "needs_background": "light"
     },
     "output_type": "display_data"
    }
   ],
   "source": [
    "results[['BMXLEG','BMXARML','adjusted_height']].plot()"
   ]
  },
  {
   "cell_type": "code",
   "execution_count": 36,
   "metadata": {},
   "outputs": [],
   "source": [
    "# if you want to change what appears on the plot, you will need to change the values in the index\n",
    "results.index = [str(x) + 's' for x in np.arange(20,90,10)] # relabel the index\n",
    "results.index.name = 'age_category'"
   ]
  },
  {
   "cell_type": "code",
   "execution_count": 37,
   "metadata": {},
   "outputs": [
    {
     "data": {
      "text/html": [
       "<div>\n",
       "<style scoped>\n",
       "    .dataframe tbody tr th:only-of-type {\n",
       "        vertical-align: middle;\n",
       "    }\n",
       "\n",
       "    .dataframe tbody tr th {\n",
       "        vertical-align: top;\n",
       "    }\n",
       "\n",
       "    .dataframe thead th {\n",
       "        text-align: right;\n",
       "    }\n",
       "</style>\n",
       "<table border=\"1\" class=\"dataframe\">\n",
       "  <thead>\n",
       "    <tr style=\"text-align: right;\">\n",
       "      <th></th>\n",
       "      <th>BMXHT</th>\n",
       "      <th>BMXLEG</th>\n",
       "      <th>BMXARML</th>\n",
       "      <th>adjusted_height</th>\n",
       "    </tr>\n",
       "    <tr>\n",
       "      <th>age_category</th>\n",
       "      <th></th>\n",
       "      <th></th>\n",
       "      <th></th>\n",
       "      <th></th>\n",
       "    </tr>\n",
       "  </thead>\n",
       "  <tbody>\n",
       "    <tr>\n",
       "      <th>20s</th>\n",
       "      <td>167.879617</td>\n",
       "      <td>40.064189</td>\n",
       "      <td>37.068919</td>\n",
       "      <td>39.879617</td>\n",
       "    </tr>\n",
       "    <tr>\n",
       "      <th>30s</th>\n",
       "      <td>167.488202</td>\n",
       "      <td>39.556128</td>\n",
       "      <td>37.154754</td>\n",
       "      <td>39.488202</td>\n",
       "    </tr>\n",
       "    <tr>\n",
       "      <th>40s</th>\n",
       "      <td>166.563244</td>\n",
       "      <td>38.680863</td>\n",
       "      <td>37.094632</td>\n",
       "      <td>38.563244</td>\n",
       "    </tr>\n",
       "    <tr>\n",
       "      <th>50s</th>\n",
       "      <td>166.351476</td>\n",
       "      <td>38.163400</td>\n",
       "      <td>37.188784</td>\n",
       "      <td>38.351476</td>\n",
       "    </tr>\n",
       "    <tr>\n",
       "      <th>60s</th>\n",
       "      <td>164.977480</td>\n",
       "      <td>37.342707</td>\n",
       "      <td>37.252859</td>\n",
       "      <td>36.977480</td>\n",
       "    </tr>\n",
       "    <tr>\n",
       "      <th>70s</th>\n",
       "      <td>164.728016</td>\n",
       "      <td>36.984049</td>\n",
       "      <td>37.350102</td>\n",
       "      <td>36.728016</td>\n",
       "    </tr>\n",
       "    <tr>\n",
       "      <th>80s</th>\n",
       "      <td>162.097091</td>\n",
       "      <td>36.516000</td>\n",
       "      <td>36.908000</td>\n",
       "      <td>34.097091</td>\n",
       "    </tr>\n",
       "  </tbody>\n",
       "</table>\n",
       "</div>"
      ],
      "text/plain": [
       "                   BMXHT     BMXLEG    BMXARML  adjusted_height\n",
       "age_category                                                   \n",
       "20s           167.879617  40.064189  37.068919        39.879617\n",
       "30s           167.488202  39.556128  37.154754        39.488202\n",
       "40s           166.563244  38.680863  37.094632        38.563244\n",
       "50s           166.351476  38.163400  37.188784        38.351476\n",
       "60s           164.977480  37.342707  37.252859        36.977480\n",
       "70s           164.728016  36.984049  37.350102        36.728016\n",
       "80s           162.097091  36.516000  36.908000        34.097091"
      ]
     },
     "execution_count": 37,
     "metadata": {},
     "output_type": "execute_result"
    }
   ],
   "source": [
    "results"
   ]
  },
  {
   "cell_type": "code",
   "execution_count": 38,
   "metadata": {},
   "outputs": [
    {
     "data": {
      "text/plain": [
       "<matplotlib.legend.Legend at 0x1a246bfc88>"
      ]
     },
     "execution_count": 38,
     "metadata": {},
     "output_type": "execute_result"
    },
    {
     "data": {
      "image/png": "[encoded data removed]",
      "text/plain": [
       "<Figure size 432x288 with 1 Axes>"
      ]
     },
     "metadata": {
      "needs_background": "light"
     },
     "output_type": "display_data"
    }
   ],
   "source": [
    "# 'cleaner' plot\n",
    "results['BMXLEG'].plot(label = \"leg length\")\n",
    "results['BMXARML'].plot(label = \"arm length\")\n",
    "results['adjusted_height'].plot(label = \"height (adjusted)\")\n",
    "plt.legend()"
   ]
  },
  {
   "cell_type": "markdown",
   "metadata": {},
   "source": [
    "# question 3"
   ]
  },
  {
   "cell_type": "markdown",
   "metadata": {},
   "source": [
    "Education Level and income [25pts]\n",
    "Guiding question: Is the Education level of the head of the household related to household income?\n",
    "\n",
    "- Use the variable: INDHHIN2 for household income. Use DMDHREDU for the education level of the head of the household.\n",
    "- Filter to adults aged 20 and older.\n",
    "- Remove people who are missing, refused to answer, or didn’t know the household income or education levels.\n",
    "- Remove household income categories 12 (\\\\$20,000 and over) and 13 (under \\\\$20,000) as they don’t quite fit in with the other income categories.\n",
    "- [5 pts] Print the shape of the resulting data before the next step.\n",
    "- [15 pts] Summarize and display the data to explore the relationship between education level and income. This question is purposely open-ended. You choose how best to summarize and display the data to answer the question regarding education level and household income."
   ]
  },
  {
   "cell_type": "markdown",
   "metadata": {},
   "source": [
    "Filter to adults aged 20 and older."
   ]
  },
  {
   "cell_type": "code",
   "execution_count": 39,
   "metadata": {},
   "outputs": [],
   "source": [
    "income = merged.loc[merged.RIDAGEYR >= 20,['RIDAGEYR','RIAGENDR','INDHHIN2','DMDHREDU']]"
   ]
  },
  {
   "cell_type": "code",
   "execution_count": 40,
   "metadata": {},
   "outputs": [
    {
     "name": "stdout",
     "output_type": "stream",
     "text": [
      "<class 'pandas.core.frame.DataFrame'>\n",
      "Int64Index: 5474 entries, 0 to 9543\n",
      "Data columns (total 4 columns):\n",
      "RIDAGEYR    5474 non-null float64\n",
      "RIAGENDR    5474 non-null float64\n",
      "INDHHIN2    5301 non-null float64\n",
      "DMDHREDU    5275 non-null float64\n",
      "dtypes: float64(4)\n",
      "memory usage: 213.8 KB\n"
     ]
    }
   ],
   "source": [
    "income.info()"
   ]
  },
  {
   "cell_type": "markdown",
   "metadata": {},
   "source": [
    "- Remove people who are missing, refused to answer, or didn’t know the household income or education levels."
   ]
  },
  {
   "cell_type": "code",
   "execution_count": 41,
   "metadata": {},
   "outputs": [
    {
     "name": "stdout",
     "output_type": "stream",
     "text": [
      "<class 'pandas.core.frame.DataFrame'>\n",
      "Int64Index: 5105 entries, 0 to 9543\n",
      "Data columns (total 4 columns):\n",
      "RIDAGEYR    5105 non-null float64\n",
      "RIAGENDR    5105 non-null float64\n",
      "INDHHIN2    5105 non-null float64\n",
      "DMDHREDU    4969 non-null float64\n",
      "dtypes: float64(4)\n",
      "memory usage: 199.4 KB\n"
     ]
    }
   ],
   "source": [
    "income = income.loc[ merged.INDHHIN2 <= 15]\n",
    "income.info()"
   ]
  },
  {
   "cell_type": "code",
   "execution_count": 50,
   "metadata": {},
   "outputs": [],
   "source": [
    "income = income.loc[ merged.DMDHREDU <= 5]"
   ]
  },
  {
   "cell_type": "markdown",
   "metadata": {},
   "source": [
    "- Remove household income categories 12 (\\\\$20,000 and over) and 13 (under \\\\$20,000) as they don’t quite fit in with the other income categories."
   ]
  },
  {
   "cell_type": "code",
   "execution_count": 43,
   "metadata": {},
   "outputs": [
    {
     "name": "stdout",
     "output_type": "stream",
     "text": [
      "<class 'pandas.core.frame.DataFrame'>\n",
      "Int64Index: 4720 entries, 0 to 9543\n",
      "Data columns (total 4 columns):\n",
      "RIDAGEYR    4720 non-null float64\n",
      "RIAGENDR    4720 non-null float64\n",
      "INDHHIN2    4720 non-null float64\n",
      "DMDHREDU    4720 non-null float64\n",
      "dtypes: float64(4)\n",
      "memory usage: 184.4 KB\n"
     ]
    }
   ],
   "source": [
    "income = income.loc[~(merged.INDHHIN2 == 12),:]\n",
    "income = income.loc[~(merged.INDHHIN2 == 13),:]\n",
    "income.info()"
   ]
  },
  {
   "cell_type": "code",
   "execution_count": 44,
   "metadata": {},
   "outputs": [],
   "source": [
    "income_sum = income.pivot_table(index = 'DMDHREDU', columns = 'INDHHIN2', values = 'RIDAGEYR', aggfunc = 'count')"
   ]
  },
  {
   "cell_type": "code",
   "execution_count": 45,
   "metadata": {},
   "outputs": [
    {
     "name": "stdout",
     "output_type": "stream",
     "text": [
      "INDHHIN2  1.0   2.0   3.0   4.0   5.0   6.0   7.0   8.0   9.0   10.0  14.0  \\\n",
      "DMDHREDU                                                                     \n",
      "1.0         23    51    80    62    63    76    56    34    16    13    17   \n",
      "2.0         25    43    62    48    49    79    71    50    38    29    27   \n",
      "3.0         31    45    80    97    73   155   102   109    63    50    74   \n",
      "4.0         24    42    78    92   109   183   173   159   115    81   166   \n",
      "5.0         12    15    21    36    38    79    95    70    96    87   202   \n",
      "\n",
      "INDHHIN2  15.0  \n",
      "DMDHREDU        \n",
      "1.0         18  \n",
      "2.0         24  \n",
      "3.0        117  \n",
      "4.0        211  \n",
      "5.0        486  \n"
     ]
    }
   ],
   "source": [
    "print(income_sum)"
   ]
  },
  {
   "cell_type": "code",
   "execution_count": 46,
   "metadata": {},
   "outputs": [],
   "source": [
    "# relabel the education levels to be more infomative\n",
    "income_sum.index = ['Less Than 9th Grade','Less than HS','High School Grad','Some College','College Graduate or above']\n",
    "income_sum.index.name = \"Education Level\""
   ]
  },
  {
   "cell_type": "code",
   "execution_count": 47,
   "metadata": {},
   "outputs": [
    {
     "data": {
      "text/plain": [
       "Float64Index([1.0, 2.0, 3.0, 4.0, 5.0, 6.0, 7.0, 8.0, 9.0, 10.0, 14.0, 15.0], dtype='float64', name='INDHHIN2')"
      ]
     },
     "execution_count": 47,
     "metadata": {},
     "output_type": "execute_result"
    }
   ],
   "source": [
    "income_sum.columns"
   ]
  },
  {
   "cell_type": "code",
   "execution_count": 48,
   "metadata": {},
   "outputs": [],
   "source": [
    "# relabeling the incomes\n",
    "income_sum.columns = [\"$ 0  to $ 4.9k\", \"$ 5k to $ 9.9k\", \"$10k to $14.9k\", \"$15k to $19.9k\", \"$20k to $24.9k\", \"$25k to $34.9k\",\n",
    "\"$35k to $44.9k\", \"$45k to $54.9k\", \"$55k to $64.9k\", \"$65k to $74.9k\", \"$75k to $99.9k\", \"$100k+\"]"
   ]
  },
  {
   "cell_type": "code",
   "execution_count": 49,
   "metadata": {},
   "outputs": [
    {
     "data": {
      "text/plain": [
       "<matplotlib.legend.Legend at 0x1a246fb080>"
      ]
     },
     "execution_count": 49,
     "metadata": {},
     "output_type": "execute_result"
    },
    {
     "data": {
      "image/png": "[encoded data removed]",
      "text/plain": [
       "<Figure size 432x288 with 1 Axes>"
      ]
     },
     "metadata": {
      "needs_background": "light"
     },
     "output_type": "display_data"
    }
   ],
   "source": [
    "income_sum.plot(kind = 'bar')\n",
    "plt.legend(bbox_to_anchor=(1, 1))  #bbox to anchor pushes the location of the legend outside"
   ]
  },
  {
   "cell_type": "markdown",
   "metadata": {},
   "source": [
    "We can see that college graduates have the highest proportion of people making over \\$100k. We also see that over $100k is the most common income category for people with college degrees\n",
    "\n",
    "For those with Less than HS or Less than 9th grade, very few people make over 65k."
   ]
  }
 ],
 "metadata": {
  "kernelspec": {
   "display_name": "Python 3",
   "language": "python",
   "name": "python3"
  },
  "language_info": {
   "codemirror_mode": {
    "name": "ipython",
    "version": 3
   },
   "file_extension": ".py",
   "mimetype": "text/x-python",
   "name": "python",
   "nbconvert_exporter": "python",
   "pygments_lexer": "ipython3",
   "version": "3.7.0"
  }
 },
 "nbformat": 4,
 "nbformat_minor": 2
}
